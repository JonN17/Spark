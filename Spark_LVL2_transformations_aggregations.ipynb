{
 "cells": [
  {
   "cell_type": "markdown",
   "metadata": {
    "application/vnd.databricks.v1+cell": {
     "cellMetadata": {},
     "inputWidgets": {},
     "nuid": "ca990c7b-1aa0-41e7-bc9f-f145230624af",
     "showTitle": false,
     "title": ""
    }
   },
   "source": [
    "# Transformation and Aggregation of Race Data\n",
    "\n",
    "##### Read all the data as required\n",
    "* rename ambiguous or conflicting names with `.withColumnRenamed()`\n",
    "\n",
    "\n",
    "Data source is at: \n",
    "* [BBC Sports](https://www.bbc.com/sport/formula1/drivers-world-championship/standings)\n",
    "\n",
    "Spark Documentation is at: [API Reference](https://spark.apache.org/docs/latest/api/python/reference/index.html)\n",
    "* **Window Functions**: [pyspark.sql.Window](https://spark.apache.org/docs/3.1.1/api/python/reference/api/pyspark.sql.Window.html#pyspark.sql.Window)\n",
    "* **Order By**: [pyspark.sql.DataFrame.orderBy](https://spark.apache.org/docs/3.1.1/api/python/reference/api/pyspark.sql.DataFrame.orderBy.html#pyspark.sql.DataFrame.orderBy)"
   ]
  },
  {
   "cell_type": "markdown",
   "metadata": {
    "application/vnd.databricks.v1+cell": {
     "cellMetadata": {},
     "inputWidgets": {},
     "nuid": "6f1298c3-3cd7-4143-ad67-13f48b1e32ca",
     "showTitle": false,
     "title": ""
    }
   },
   "source": [
    "<img src=\"https://ergast.com/images/ergast_db.png\" alt=\"Ergast DB Image\">\n"
   ]
  },
  {
   "cell_type": "code",
   "execution_count": 0,
   "metadata": {
    "application/vnd.databricks.v1+cell": {
     "cellMetadata": {
      "byteLimit": 2048000,
      "rowLimit": 10000
     },
     "inputWidgets": {},
     "nuid": "720d6d32-9450-48bc-8748-2a341941d38d",
     "showTitle": false,
     "title": ""
    }
   },
   "outputs": [],
   "source": [
    "%run \"./includes/config_file_paths\""
   ]
  },
  {
   "cell_type": "code",
   "execution_count": 0,
   "metadata": {
    "application/vnd.databricks.v1+cell": {
     "cellMetadata": {
      "byteLimit": 2048000,
      "rowLimit": 10000
     },
     "inputWidgets": {},
     "nuid": "c7047c51-06d3-428d-96f6-107df718e42b",
     "showTitle": false,
     "title": ""
    }
   },
   "outputs": [],
   "source": [
    "drivers_df = spark.read.parquet(f\"{processed_folder_path}/drivers\") \\\n",
    ".withColumnRenamed(\"number\", \"driver_number\") \\\n",
    ".withColumnRenamed(\"name\", \"driver_name\") \\\n",
    ".withColumnRenamed(\"nationality\", \"driver_nationality\") "
   ]
  },
  {
   "cell_type": "code",
   "execution_count": 0,
   "metadata": {
    "application/vnd.databricks.v1+cell": {
     "cellMetadata": {
      "byteLimit": 2048000,
      "rowLimit": 10000
     },
     "inputWidgets": {},
     "nuid": "ee0adf8f-05a1-4169-9a05-b5848c4c4f77",
     "showTitle": false,
     "title": ""
    }
   },
   "outputs": [],
   "source": [
    "constructors_df = spark.read.parquet(f\"{processed_folder_path}/constructors\") \\\n",
    ".withColumnRenamed(\"name\", \"team\") "
   ]
  },
  {
   "cell_type": "code",
   "execution_count": 0,
   "metadata": {
    "application/vnd.databricks.v1+cell": {
     "cellMetadata": {
      "byteLimit": 2048000,
      "rowLimit": 10000
     },
     "inputWidgets": {},
     "nuid": "cabb7e09-d5bd-4cfc-b0fc-c33851979b0b",
     "showTitle": false,
     "title": ""
    }
   },
   "outputs": [],
   "source": [
    "circuits_df = spark.read.parquet(f\"{processed_folder_path}/circuits\") \\\n",
    ".withColumnRenamed(\"location\", \"circuit_location\") "
   ]
  },
  {
   "cell_type": "code",
   "execution_count": 0,
   "metadata": {
    "application/vnd.databricks.v1+cell": {
     "cellMetadata": {
      "byteLimit": 2048000,
      "rowLimit": 10000
     },
     "inputWidgets": {},
     "nuid": "dac3735b-3e02-4ef0-9b18-95e90c7db8c3",
     "showTitle": false,
     "title": ""
    }
   },
   "outputs": [],
   "source": [
    "races_df = spark.read.parquet(f\"{processed_folder_path}/races\") \\\n",
    ".withColumnRenamed(\"name\", \"race_name\") \\\n",
    ".withColumnRenamed(\"race_timestamp\", \"race_date\") "
   ]
  },
  {
   "cell_type": "code",
   "execution_count": 0,
   "metadata": {
    "application/vnd.databricks.v1+cell": {
     "cellMetadata": {
      "byteLimit": 2048000,
      "rowLimit": 10000
     },
     "inputWidgets": {},
     "nuid": "501f76e6-d2f0-40fc-91ed-d41a79621cbb",
     "showTitle": false,
     "title": ""
    }
   },
   "outputs": [],
   "source": [
    "results_df = spark.read.parquet(f\"{processed_folder_path}/results\") \\\n",
    ".withColumnRenamed(\"time\", \"race_time\") "
   ]
  },
  {
   "cell_type": "markdown",
   "metadata": {
    "application/vnd.databricks.v1+cell": {
     "cellMetadata": {},
     "inputWidgets": {},
     "nuid": "c3ba3f75-3412-4418-b308-2e6d5897ce82",
     "showTitle": false,
     "title": ""
    }
   },
   "source": [
    "##### Join circuits to races"
   ]
  },
  {
   "cell_type": "code",
   "execution_count": 0,
   "metadata": {
    "application/vnd.databricks.v1+cell": {
     "cellMetadata": {
      "byteLimit": 2048000,
      "rowLimit": 10000
     },
     "inputWidgets": {},
     "nuid": "55e49e4b-9f01-4900-9619-e31acfc4d94c",
     "showTitle": false,
     "title": ""
    }
   },
   "outputs": [],
   "source": [
    "race_circuits_df = races_df.join(circuits_df, races_df.circuit_id == circuits_df.circuit_id, \"inner\") \\\n",
    ".select(races_df.race_id, races_df.race_year, races_df.race_name, races_df.race_date, circuits_df.circuit_location)"
   ]
  },
  {
   "cell_type": "markdown",
   "metadata": {
    "application/vnd.databricks.v1+cell": {
     "cellMetadata": {},
     "inputWidgets": {},
     "nuid": "bf22aac4-8a11-483d-9c88-f2272a2719ac",
     "showTitle": false,
     "title": ""
    }
   },
   "source": [
    "##### Join results to all other dataframes"
   ]
  },
  {
   "cell_type": "code",
   "execution_count": 0,
   "metadata": {
    "application/vnd.databricks.v1+cell": {
     "cellMetadata": {
      "byteLimit": 2048000,
      "rowLimit": 10000
     },
     "inputWidgets": {},
     "nuid": "6ad7ea3d-ccc0-4183-b190-ac9d1c45807c",
     "showTitle": false,
     "title": ""
    }
   },
   "outputs": [
    {
     "output_type": "stream",
     "name": "stdout",
     "output_type": "stream",
     "text": [
      "+-------+---------+--------------------+-------------------+----------------+\n|race_id|race_year|           race_name|          race_date|circuit_location|\n+-------+---------+--------------------+-------------------+----------------+\n|   1053|     2021|Emilia Romagna Gr...|2021-04-18 13:00:00|           Imola|\n|   1052|     2021|  Bahrain Grand Prix|2021-03-28 15:00:00|          Sakhir|\n|   1051|     2021|Australian Grand ...|2021-11-21 06:00:00|       Melbourne|\n|   1054|     2021|                 TBC|               null|         Nürburg|\n|   1055|     2021|  Spanish Grand Prix|2021-05-09 13:00:00|        Montmeló|\n+-------+---------+--------------------+-------------------+----------------+\n\n"
     ]
    }
   ],
   "source": [
    "race_circuits_df.limit(5).show()"
   ]
  },
  {
   "cell_type": "code",
   "execution_count": 0,
   "metadata": {
    "application/vnd.databricks.v1+cell": {
     "cellMetadata": {
      "byteLimit": 2048000,
      "rowLimit": 10000
     },
     "inputWidgets": {},
     "nuid": "71efaa86-4864-44a9-8a01-4a9441035df4",
     "showTitle": false,
     "title": ""
    }
   },
   "outputs": [],
   "source": [
    "race_results_df = results_df.join(race_circuits_df, results_df.race_id == race_circuits_df.race_id) \\\n",
    "                            .join(drivers_df, results_df.driver_id == drivers_df.driver_id) \\\n",
    "                            .join(constructors_df, results_df.constructor_id == constructors_df.constructor_id)"
   ]
  },
  {
   "cell_type": "code",
   "execution_count": 0,
   "metadata": {
    "application/vnd.databricks.v1+cell": {
     "cellMetadata": {
      "byteLimit": 2048000,
      "rowLimit": 10000
     },
     "inputWidgets": {},
     "nuid": "7ed13e4a-0893-4dcc-9aee-00813d4d56a8",
     "showTitle": false,
     "title": ""
    }
   },
   "outputs": [],
   "source": [
    "from pyspark.sql.functions import current_timestamp"
   ]
  },
  {
   "cell_type": "code",
   "execution_count": 0,
   "metadata": {
    "application/vnd.databricks.v1+cell": {
     "cellMetadata": {
      "byteLimit": 2048000,
      "rowLimit": 10000
     },
     "inputWidgets": {},
     "nuid": "1fa1135a-968a-4a86-8460-81c1e0e7fba2",
     "showTitle": false,
     "title": ""
    }
   },
   "outputs": [],
   "source": [
    "final_df = race_results_df.select(\"race_year\", \"race_name\", \"race_date\", \"circuit_location\", \"driver_name\", \"driver_number\", \"driver_nationality\",\n",
    "                                 \"team\", \"grid\", \"fastest_lap\", \"race_time\", \"points\", \"position\") \\\n",
    "                          .withColumn(\"created_date\", current_timestamp())"
   ]
  },
  {
   "cell_type": "markdown",
   "metadata": {
    "application/vnd.databricks.v1+cell": {
     "cellMetadata": {},
     "inputWidgets": {},
     "nuid": "0d9c78de-7418-4c3f-92c2-d2fff34b067e",
     "showTitle": false,
     "title": ""
    }
   },
   "source": [
    "\n",
    "compare against:\n",
    "https://www.bbc.com/sport/formula1/2020/results\n",
    "\n",
    "documentation for oder by:\n",
    "https://spark.apache.org/docs/3.1.1/api/python/reference/api/pyspark.sql.DataFrame.orderBy.html"
   ]
  },
  {
   "cell_type": "code",
   "execution_count": 0,
   "metadata": {
    "application/vnd.databricks.v1+cell": {
     "cellMetadata": {
      "byteLimit": 2048000,
      "rowLimit": 10000
     },
     "inputWidgets": {},
     "nuid": "b3cd929a-b563-42fc-a700-386f07cf9cee",
     "showTitle": false,
     "title": ""
    }
   },
   "outputs": [
    {
     "output_type": "stream",
     "name": "stdout",
     "output_type": "stream",
     "text": [
      "+---------+--------------------+-------------------+----------------+---------------+-------------+------------------+--------+\n|race_year|           race_name|          race_date|circuit_location|    driver_name|driver_number|driver_nationality|    team|\n+---------+--------------------+-------------------+----------------+---------------+-------------+------------------+--------+\n|     2020|Abu Dhabi Grand Prix|2020-12-13 13:10:00|       Abu Dhabi| Max Verstappen|           33|             Dutch|Red Bull|\n|     2020|Abu Dhabi Grand Prix|2020-12-13 13:10:00|       Abu Dhabi| Max Verstappen|           33|             Dutch|Red Bull|\n|     2020|Abu Dhabi Grand Prix|2020-12-13 13:10:00|       Abu Dhabi|Valtteri Bottas|           77|           Finnish|Mercedes|\n|     2020|Abu Dhabi Grand Prix|2020-12-13 13:10:00|       Abu Dhabi|Valtteri Bottas|           77|           Finnish|Mercedes|\n|     2020|Abu Dhabi Grand Prix|2020-12-13 13:10:00|       Abu Dhabi| Lewis Hamilton|           44|           British|Mercedes|\n+---------+--------------------+-------------------+----------------+---------------+-------------+------------------+--------+\n\n"
     ]
    }
   ],
   "source": [
    "temp=final_df.filter(\"race_year == 2020 and race_name == 'Abu Dhabi Grand Prix'\").orderBy(final_df.points.desc())\n",
    "first_eight_columns = temp.select(temp.columns[:8])\n",
    "first_eight_columns.limit(5).show()"
   ]
  },
  {
   "cell_type": "markdown",
   "metadata": {
    "application/vnd.databricks.v1+cell": {
     "cellMetadata": {},
     "inputWidgets": {},
     "nuid": "4b71c079-c12b-4608-8bd9-a75fb2b0f653",
     "showTitle": false,
     "title": ""
    }
   },
   "source": [
    "##### NOTE TO SELF: Fix this duplicate issue!!!!!!!!!!!!!!!!\n",
    "nodup_final_df = final_df.dropDuplicates() works but I need to find out where the issue happened.  Hypothesis: Simply reimport the data and rerun the entire project again. I suspect a file got double concatonated during the ingestion process."
   ]
  },
  {
   "cell_type": "code",
   "execution_count": 0,
   "metadata": {
    "application/vnd.databricks.v1+cell": {
     "cellMetadata": {
      "byteLimit": 2048000,
      "rowLimit": 10000
     },
     "inputWidgets": {},
     "nuid": "543d9f4b-49b1-420c-9f1c-0c5940efa5ad",
     "showTitle": false,
     "title": ""
    }
   },
   "outputs": [],
   "source": [
    "nodup_final_df = final_df.dropDuplicates()"
   ]
  },
  {
   "cell_type": "code",
   "execution_count": 0,
   "metadata": {
    "application/vnd.databricks.v1+cell": {
     "cellMetadata": {
      "byteLimit": 2048000,
      "rowLimit": 10000
     },
     "inputWidgets": {},
     "nuid": "70d7ea15-0e4c-4b01-a313-5359682c764e",
     "showTitle": false,
     "title": ""
    }
   },
   "outputs": [],
   "source": [
    "from pyspark.sql import DataFrame\n",
    "# Because display isn't github friendly\n",
    "def ezView(df, n=5, m=8):\n",
    "    \"\"\"\n",
    "    Display the first n rows and the first m columns of a DataFrame.\n",
    "\n",
    "    Parameters:\n",
    "    df (DataFrame): The DataFrame to display.\n",
    "    n (int): Number of rows to display. Default is 5.\n",
    "    m (int): Number of columns to display. Default is 8.\n",
    "    \"\"\"\n",
    "    # Ensure that n and m are within the DataFrame's bounds\n",
    "    num_rows = df.count()\n",
    "    num_columns = len(df.columns)\n",
    "    n = min(n, num_rows)\n",
    "    m = min(m, num_columns)\n",
    "\n",
    "    # Select the first m columns and display the first n rows\n",
    "    selected_columns = df.select(df.columns[:m])\n",
    "    selected_columns.limit(n).show()"
   ]
  },
  {
   "cell_type": "code",
   "execution_count": 0,
   "metadata": {
    "application/vnd.databricks.v1+cell": {
     "cellMetadata": {
      "byteLimit": 2048000,
      "rowLimit": 10000
     },
     "inputWidgets": {},
     "nuid": "17f9ec4e-40f2-4b02-b9a5-d3485170e9dd",
     "showTitle": false,
     "title": ""
    }
   },
   "outputs": [
    {
     "output_type": "stream",
     "name": "stdout",
     "output_type": "stream",
     "text": [
      "+---------+--------------------+-------------------+----------------+---------------+-------------+------------------+--------+\n|race_year|           race_name|          race_date|circuit_location|    driver_name|driver_number|driver_nationality|    team|\n+---------+--------------------+-------------------+----------------+---------------+-------------+------------------+--------+\n|     2020|Abu Dhabi Grand Prix|2020-12-13 13:10:00|       Abu Dhabi| Max Verstappen|           33|             Dutch|Red Bull|\n|     2020|Abu Dhabi Grand Prix|2020-12-13 13:10:00|       Abu Dhabi|Valtteri Bottas|           77|           Finnish|Mercedes|\n|     2020|Abu Dhabi Grand Prix|2020-12-13 13:10:00|       Abu Dhabi| Lewis Hamilton|           44|           British|Mercedes|\n|     2020|Abu Dhabi Grand Prix|2020-12-13 13:10:00|       Abu Dhabi|Alexander Albon|           23|              Thai|Red Bull|\n|     2020|Abu Dhabi Grand Prix|2020-12-13 13:10:00|       Abu Dhabi|   Lando Norris|            4|           British| McLaren|\n+---------+--------------------+-------------------+----------------+---------------+-------------+------------------+--------+\n\n"
     ]
    }
   ],
   "source": [
    "temp=nodup_final_df.filter(\"race_year == 2020 and race_name == 'Abu Dhabi Grand Prix'\").orderBy(final_df.points.desc())\n",
    "ezView(temp)"
   ]
  },
  {
   "cell_type": "code",
   "execution_count": 0,
   "metadata": {
    "application/vnd.databricks.v1+cell": {
     "cellMetadata": {
      "byteLimit": 2048000,
      "rowLimit": 10000
     },
     "inputWidgets": {},
     "nuid": "306f4844-c8d3-440f-baad-4fe08c5da199",
     "showTitle": false,
     "title": ""
    }
   },
   "outputs": [],
   "source": [
    "final_df=nodup_final_df"
   ]
  },
  {
   "cell_type": "code",
   "execution_count": 0,
   "metadata": {
    "application/vnd.databricks.v1+cell": {
     "cellMetadata": {
      "byteLimit": 2048000,
      "rowLimit": 10000
     },
     "inputWidgets": {},
     "nuid": "7d42c9eb-466f-44a4-a81e-580fa9794eca",
     "showTitle": false,
     "title": ""
    }
   },
   "outputs": [],
   "source": [
    "final_df.write.mode(\"overwrite\").parquet(f\"{presentation_folder_path}/race_results\")"
   ]
  },
  {
   "cell_type": "markdown",
   "metadata": {
    "application/vnd.databricks.v1+cell": {
     "cellMetadata": {},
     "inputWidgets": {},
     "nuid": "0ae06b86-2ce5-4e26-a1bc-1e4db5fb474b",
     "showTitle": false,
     "title": ""
    }
   },
   "source": [
    "## Aggregations\n",
    "Sum count, min, max, etc....\n",
    "\n",
    "Documentation:\n",
    "* https://spark.apache.org/docs/3.1.1/api/python/reference/pyspark.sql.html#functions\n",
    "\n",
    "and then search for \"Aggregate\"\n",
    "\n",
    "##### Produce driver standings"
   ]
  },
  {
   "cell_type": "code",
   "execution_count": 0,
   "metadata": {
    "application/vnd.databricks.v1+cell": {
     "cellMetadata": {
      "byteLimit": 2048000,
      "rowLimit": 10000
     },
     "inputWidgets": {},
     "nuid": "4c71f59a-dd17-45d9-9373-67458c0568f9",
     "showTitle": false,
     "title": ""
    }
   },
   "outputs": [],
   "source": [
    "%run \"./includes/config_file_paths\""
   ]
  },
  {
   "cell_type": "code",
   "execution_count": 0,
   "metadata": {
    "application/vnd.databricks.v1+cell": {
     "cellMetadata": {
      "byteLimit": 2048000,
      "rowLimit": 10000
     },
     "inputWidgets": {},
     "nuid": "4c4d6fcf-119e-452f-a78a-327b750e46cb",
     "showTitle": false,
     "title": ""
    }
   },
   "outputs": [],
   "source": [
    "race_results_df = spark.read.parquet(f\"{presentation_folder_path}/race_results\")"
   ]
  },
  {
   "cell_type": "markdown",
   "metadata": {
    "application/vnd.databricks.v1+cell": {
     "cellMetadata": {},
     "inputWidgets": {},
     "nuid": "5401e0b6-c6f6-445d-b907-133db33c6a5d",
     "showTitle": false,
     "title": ""
    }
   },
   "source": [
    "##### Count the Number of Wins per Season Per Driver\n",
    "\n",
    "```\n",
    "count(when(col(\"position\") == 1, True)).alias(\"wins\"))\n",
    "```"
   ]
  },
  {
   "cell_type": "code",
   "execution_count": 0,
   "metadata": {
    "application/vnd.databricks.v1+cell": {
     "cellMetadata": {
      "byteLimit": 2048000,
      "rowLimit": 10000
     },
     "inputWidgets": {},
     "nuid": "5789432d-635b-464c-b432-1bdf57058c9d",
     "showTitle": false,
     "title": ""
    }
   },
   "outputs": [],
   "source": [
    "from pyspark.sql.functions import sum, when, count, col\n",
    "\n",
    "driver_standings_df = race_results_df \\\n",
    ".groupBy(\"race_year\", \"driver_name\", \"driver_nationality\", \"team\") \\\n",
    ".agg(sum(\"points\").alias(\"total_points\"),\n",
    "     count(when(col(\"position\") == 1, True)).alias(\"wins\"))"
   ]
  },
  {
   "cell_type": "code",
   "execution_count": 0,
   "metadata": {
    "application/vnd.databricks.v1+cell": {
     "cellMetadata": {
      "byteLimit": 2048000,
      "rowLimit": 10000
     },
     "inputWidgets": {},
     "nuid": "c7216887-5225-4b29-89f8-bc2f2960ec52",
     "showTitle": false,
     "title": ""
    }
   },
   "outputs": [
    {
     "output_type": "stream",
     "name": "stdout",
     "output_type": "stream",
     "text": [
      "+---------+------------------+------------------+------------+------------+----+\n|race_year|       driver_name|driver_nationality|        team|total_points|wins|\n+---------+------------------+------------------+------------+------------+----+\n|     2020|      Lance Stroll|          Canadian|Racing Point|        75.0|   0|\n|     2020|   Kevin Magnussen|            Danish|Haas F1 Team|         1.0|   0|\n|     2020|Antonio Giovinazzi|           Italian|  Alfa Romeo|         4.0|   0|\n|     2020|      Carlos Sainz|           Spanish|     McLaren|       105.0|   0|\n|     2020|    Lewis Hamilton|           British|    Mercedes|       347.0|  11|\n+---------+------------------+------------------+------------+------------+----+\n\n"
     ]
    }
   ],
   "source": [
    "temp=driver_standings_df.filter(\"race_year = 2020\")\n",
    "ezView(temp)"
   ]
  },
  {
   "cell_type": "markdown",
   "metadata": {
    "application/vnd.databricks.v1+cell": {
     "cellMetadata": {},
     "inputWidgets": {},
     "nuid": "149044d5-11c1-4bc5-8817-a8db23f1bdab",
     "showTitle": false,
     "title": ""
    }
   },
   "source": [
    "##### Rank Each Driver\n",
    "\n",
    "```\n",
    ".withColumn(\"rank\", rank().over(driver_rank_spec))\n",
    "```"
   ]
  },
  {
   "cell_type": "markdown",
   "metadata": {
    "application/vnd.databricks.v1+cell": {
     "cellMetadata": {},
     "inputWidgets": {},
     "nuid": "5923525a-7b44-4aa5-8b39-0d7d5bf4c533",
     "showTitle": false,
     "title": ""
    }
   },
   "source": [
    "\n",
    " WindowSpec object created using PySpark's Window functions. The WindowSpec object defines the window specification for use in window functions applied to a DataFrame.\n",
    " * partition by \"race_year\"\n",
    " * order by descending total points\n",
    " * if the drivers tied the ranking then goes to the driver with the most wins\n",
    "\n",
    "\n",
    "Documentation is at: [API Reference](https://spark.apache.org/docs/latest/api/python/reference/index.html)\n",
    "* **Window Functions**: [pyspark.sql.Window](https://spark.apache.org/docs/3.1.1/api/python/reference/api/pyspark.sql.Window.html#pyspark.sql.Window)\n",
    "* **Order By**: [pyspark.sql.DataFrame.orderBy](https://spark.apache.org/docs/3.1.1/api/python/reference/api/pyspark.sql.DataFrame.orderBy.html#pyspark.sql.DataFrame.orderBy)\n",
    "\n",
    "\n",
    " The example command:\n",
    "\n",
    " ```\n",
    " # PARTITION BY country ORDER BY date RANGE BETWEEN 3 PRECEDING AND 3 FOLLOWING\n",
    "window = Window.orderBy(\"date\").partitionBy(\"country\").rangeBetween(-3, 3)\n",
    "```"
   ]
  },
  {
   "cell_type": "code",
   "execution_count": 0,
   "metadata": {
    "application/vnd.databricks.v1+cell": {
     "cellMetadata": {
      "byteLimit": 2048000,
      "rowLimit": 10000
     },
     "inputWidgets": {},
     "nuid": "0baf6624-5ee6-4caa-9f21-5bf5ca98588a",
     "showTitle": false,
     "title": ""
    }
   },
   "outputs": [],
   "source": [
    "from pyspark.sql.window import Window\n",
    "from pyspark.sql.functions import desc, rank, asc\n",
    "\n",
    "driver_rank_spec = Window.partitionBy(\"race_year\").orderBy(desc(\"total_points\"), desc(\"wins\"))\n",
    "final_df = driver_standings_df.withColumn(\"rank\", rank().over(driver_rank_spec))"
   ]
  },
  {
   "cell_type": "markdown",
   "metadata": {
    "application/vnd.databricks.v1+cell": {
     "cellMetadata": {},
     "inputWidgets": {},
     "nuid": "5e8600d3-0de5-4d88-8ab0-9fffaefb3212",
     "showTitle": false,
     "title": ""
    }
   },
   "source": [
    "Notice \n",
    "* Pierre Gasly\n",
    "* Lance Stroll\n",
    "\n",
    "Both have 75 points but Gasly has has more wins so he comes out ahead."
   ]
  },
  {
   "cell_type": "code",
   "execution_count": 0,
   "metadata": {
    "application/vnd.databricks.v1+cell": {
     "cellMetadata": {
      "byteLimit": 2048000,
      "rowLimit": 10000
     },
     "inputWidgets": {},
     "nuid": "f1f6ff7d-a594-4567-8798-ac13e9155da4",
     "showTitle": false,
     "title": ""
    }
   },
   "outputs": [
    {
     "output_type": "stream",
     "name": "stdout",
     "output_type": "stream",
     "text": [
      "+---------+----------------+------------------+------------+------------+----+----+\n|race_year|     driver_name|driver_nationality|        team|total_points|wins|rank|\n+---------+----------------+------------------+------------+------------+----+----+\n|     2020|  Lewis Hamilton|           British|    Mercedes|       347.0|  11|   1|\n|     2020| Valtteri Bottas|           Finnish|    Mercedes|       223.0|   2|   2|\n|     2020|  Max Verstappen|             Dutch|    Red Bull|       214.0|   2|   3|\n|     2020|    Sergio Pérez|           Mexican|Racing Point|       125.0|   1|   4|\n|     2020|Daniel Ricciardo|        Australian|     Renault|       119.0|   0|   5|\n+---------+----------------+------------------+------------+------------+----+----+\n\n"
     ]
    }
   ],
   "source": [
    "ezView(final_df.filter(\"race_year = 2020\"))"
   ]
  },
  {
   "cell_type": "code",
   "execution_count": 0,
   "metadata": {
    "application/vnd.databricks.v1+cell": {
     "cellMetadata": {
      "byteLimit": 2048000,
      "rowLimit": 10000
     },
     "inputWidgets": {},
     "nuid": "577a16c7-7e3a-4bf3-91e4-59afa689d2de",
     "showTitle": false,
     "title": ""
    }
   },
   "outputs": [],
   "source": [
    "final_df.write.mode(\"overwrite\").parquet(f\"{presentation_folder_path}/driver_standings\")"
   ]
  },
  {
   "cell_type": "markdown",
   "metadata": {
    "application/vnd.databricks.v1+cell": {
     "cellMetadata": {},
     "inputWidgets": {},
     "nuid": "c93db337-fbc7-4c73-bdaa-a73130c68898",
     "showTitle": false,
     "title": ""
    }
   },
   "source": [
    "### Constructor standings\n",
    "\n",
    "Objective: Figure out the rank of each team\n",
    "\n",
    "https://www.bbc.com/sport/formula1/constructors-world-championship/standings"
   ]
  },
  {
   "cell_type": "code",
   "execution_count": 0,
   "metadata": {
    "application/vnd.databricks.v1+cell": {
     "cellMetadata": {
      "byteLimit": 2048000,
      "rowLimit": 10000
     },
     "inputWidgets": {},
     "nuid": "845cf7ed-947c-4192-8583-1ae9f6ba7355",
     "showTitle": false,
     "title": ""
    }
   },
   "outputs": [],
   "source": [
    "%run \"./includes/config_file_paths\""
   ]
  },
  {
   "cell_type": "code",
   "execution_count": 0,
   "metadata": {
    "application/vnd.databricks.v1+cell": {
     "cellMetadata": {
      "byteLimit": 2048000,
      "rowLimit": 10000
     },
     "inputWidgets": {},
     "nuid": "859dfa78-d468-4785-9bed-96aaf154e435",
     "showTitle": false,
     "title": ""
    }
   },
   "outputs": [],
   "source": [
    "race_results_df = spark.read.parquet(f\"{presentation_folder_path}/race_results\")"
   ]
  },
  {
   "cell_type": "code",
   "execution_count": 0,
   "metadata": {
    "application/vnd.databricks.v1+cell": {
     "cellMetadata": {
      "byteLimit": 2048000,
      "rowLimit": 10000
     },
     "inputWidgets": {},
     "nuid": "4c3e2e91-68a4-4347-9d5c-a5b1618bcf99",
     "showTitle": false,
     "title": ""
    }
   },
   "outputs": [],
   "source": [
    "from pyspark.sql.functions import sum, when, count, col\n",
    "\n",
    "constructor_standings_df = race_results_df \\\n",
    ".groupBy(\"race_year\", \"team\") \\\n",
    ".agg(sum(\"points\").alias(\"total_points\"),\n",
    "     count(when(col(\"position\") == 1, True)).alias(\"wins\"))"
   ]
  },
  {
   "cell_type": "code",
   "execution_count": 0,
   "metadata": {
    "application/vnd.databricks.v1+cell": {
     "cellMetadata": {
      "byteLimit": 2048000,
      "rowLimit": 10000
     },
     "inputWidgets": {},
     "nuid": "f96806bf-2e83-48b3-87d6-f3188170e42b",
     "showTitle": false,
     "title": ""
    }
   },
   "outputs": [
    {
     "output_type": "stream",
     "name": "stdout",
     "output_type": "stream",
     "text": [
      "+---------+------------+------------+----+\n|race_year|        team|total_points|wins|\n+---------+------------+------------+----+\n|     2020|Haas F1 Team|         3.0|   0|\n|     2020|     McLaren|       202.0|   0|\n|     2020|     Ferrari|       131.0|   0|\n|     2020|    Mercedes|       573.0|  13|\n|     2020|  AlphaTauri|       107.0|   1|\n+---------+------------+------------+----+\n\n"
     ]
    }
   ],
   "source": [
    "ezView(constructor_standings_df.filter(\"race_year = 2020\"))"
   ]
  },
  {
   "cell_type": "markdown",
   "metadata": {
    "application/vnd.databricks.v1+cell": {
     "cellMetadata": {},
     "inputWidgets": {},
     "nuid": "7860d0ef-9d11-4a2d-9fe1-398b3e12ec34",
     "showTitle": false,
     "title": ""
    }
   },
   "source": [
    "\n",
    " WindowSpec object created using PySpark's Window functions. The WindowSpec object defines the window specification for use in window functions applied to a DataFrame."
   ]
  },
  {
   "cell_type": "code",
   "execution_count": 0,
   "metadata": {
    "application/vnd.databricks.v1+cell": {
     "cellMetadata": {
      "byteLimit": 2048000,
      "rowLimit": 10000
     },
     "inputWidgets": {},
     "nuid": "f1cc3a3c-335f-4c22-ad7a-0be29009a90a",
     "showTitle": false,
     "title": ""
    }
   },
   "outputs": [],
   "source": [
    "from pyspark.sql.window import Window\n",
    "from pyspark.sql.functions import desc, rank, asc\n",
    "\n",
    "constructor_rank_spec = Window.partitionBy(\"race_year\").orderBy(desc(\"total_points\"), desc(\"wins\"))\n",
    "final_df = constructor_standings_df.withColumn(\"rank\", rank().over(constructor_rank_spec))"
   ]
  },
  {
   "cell_type": "code",
   "execution_count": 0,
   "metadata": {
    "application/vnd.databricks.v1+cell": {
     "cellMetadata": {
      "byteLimit": 2048000,
      "rowLimit": 10000
     },
     "inputWidgets": {},
     "nuid": "98f22d28-5c50-4bdb-b62f-5396277568b0",
     "showTitle": false,
     "title": ""
    }
   },
   "outputs": [
    {
     "output_type": "stream",
     "name": "stdout",
     "output_type": "stream",
     "text": [
      "+---------+------------+------------+----+----+\n|race_year|        team|total_points|wins|rank|\n+---------+------------+------------+----+----+\n|     2020|    Mercedes|       573.0|  13|   1|\n|     2020|    Red Bull|       319.0|   2|   2|\n|     2020|Racing Point|       210.0|   1|   3|\n|     2020|     McLaren|       202.0|   0|   4|\n|     2020|     Renault|       181.0|   0|   5|\n+---------+------------+------------+----+----+\n\n"
     ]
    }
   ],
   "source": [
    "ezView(final_df.filter(\"race_year = 2020\"))"
   ]
  },
  {
   "cell_type": "code",
   "execution_count": 0,
   "metadata": {
    "application/vnd.databricks.v1+cell": {
     "cellMetadata": {
      "byteLimit": 2048000,
      "rowLimit": 10000
     },
     "inputWidgets": {},
     "nuid": "2cf19a3b-3788-4852-a77d-c73f97a478e1",
     "showTitle": false,
     "title": ""
    }
   },
   "outputs": [],
   "source": [
    "final_df.write.mode(\"overwrite\").parquet(f\"{presentation_folder_path}/constructor_standings\")"
   ]
  }
 ],
 "metadata": {
  "application/vnd.databricks.v1+notebook": {
   "dashboards": [],
   "language": "python",
   "notebookMetadata": {
    "pythonIndentUnit": 4
   },
   "notebookName": "Spark_LVL2_transformations_aggregations",
   "widgets": {}
  }
 },
 "nbformat": 4,
 "nbformat_minor": 0
}
