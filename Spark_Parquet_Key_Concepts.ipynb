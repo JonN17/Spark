{
 "cells": [
  {
   "cell_type": "markdown",
   "metadata": {
    "application/vnd.databricks.v1+cell": {
     "cellMetadata": {},
     "inputWidgets": {},
     "nuid": "ab2ccf4a-375f-4f15-8807-07f114299626",
     "showTitle": false,
     "title": ""
    }
   },
   "source": [
    "### Parquet Files\n",
    "\n",
    "Similarities:\n",
    "* both are used in Apache Spark to write a DataFrame (my_dataframe) to disk in the Parquet file format\n",
    "* both overwriting any existing data. \n",
    "\n",
    "Differences:\n",
    "* method of writing \n",
    "* destination of the saved data."
   ]
  },
  {
   "cell_type": "markdown",
   "metadata": {
    "application/vnd.databricks.v1+cell": {
     "cellMetadata": {},
     "inputWidgets": {},
     "nuid": "17985f2e-a023-4e72-a442-107b4e91add7",
     "showTitle": false,
     "title": ""
    }
   },
   "source": [
    "##### Managed\n",
    "* Hive Metastore\n",
    "* writes the DataFrame as a table in the Hive metastore \n",
    "The data is stored in the Parquet file format."
   ]
  },
  {
   "cell_type": "code",
   "execution_count": 0,
   "metadata": {
    "application/vnd.databricks.v1+cell": {
     "cellMetadata": {},
     "inputWidgets": {},
     "nuid": "b0edf42e-f065-4313-80d6-52ccb21cfb61",
     "showTitle": false,
     "title": ""
    }
   },
   "outputs": [],
   "source": [
    "my_dataframe.write.mode(\"overwrite\").format(\"parquet\").saveAsTable(\"database.my_table\")\n"
   ]
  },
  {
   "cell_type": "markdown",
   "metadata": {
    "application/vnd.databricks.v1+cell": {
     "cellMetadata": {},
     "inputWidgets": {},
     "nuid": "a57082c7-3a71-4960-b6da-b9b4f1c86745",
     "showTitle": false,
     "title": ""
    }
   },
   "source": [
    "##### Unmanaged / Explicit Path\n",
    "* No Hive\n",
    "* not managed\n",
    "* writes to `/mnt/formula1dl/processed/circuits`"
   ]
  },
  {
   "cell_type": "code",
   "execution_count": 0,
   "metadata": {
    "application/vnd.databricks.v1+cell": {
     "cellMetadata": {},
     "inputWidgets": {},
     "nuid": "5d2588fb-fe36-4f4b-b915-d4cc92447c4f",
     "showTitle": false,
     "title": ""
    }
   },
   "outputs": [],
   "source": [
    "my_dataframe.write.mode(\"overwrite\").parquet(\"/mnt/database/processed/my_table\")\n"
   ]
  }
 ],
 "metadata": {
  "application/vnd.databricks.v1+notebook": {
   "dashboards": [],
   "language": "python",
   "notebookMetadata": {
    "pythonIndentUnit": 4
   },
   "notebookName": "Spark_Parquet_Key_Concepts",
   "widgets": {}
  }
 },
 "nbformat": 4,
 "nbformat_minor": 0
}
