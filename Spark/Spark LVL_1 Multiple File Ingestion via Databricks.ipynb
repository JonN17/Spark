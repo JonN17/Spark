{
 "cells": [
  {
   "cell_type": "markdown",
   "metadata": {
    "application/vnd.databricks.v1+cell": {
     "cellMetadata": {
      "byteLimit": 2048000,
      "rowLimit": 10000
     },
     "inputWidgets": {},
     "nuid": "76e69faf-434d-477b-931a-8f479f7f5834",
     "showTitle": false,
     "title": ""
    }
   },
   "source": [
    "### Ingesting Multiple files CSV & Multi-Line JSON\n",
    "\n",
    "* Ingesting multiple csv files\n",
    "* Ingesting multiple multi-line JSON files\n"
   ]
  },
  {
   "cell_type": "markdown",
   "metadata": {
    "application/vnd.databricks.v1+cell": {
     "cellMetadata": {
      "byteLimit": 2048000,
      "rowLimit": 10000
     },
     "inputWidgets": {},
     "nuid": "3ce49b94-0b4a-49a4-9558-fb776d35f4c1",
     "showTitle": false,
     "title": ""
    }
   },
   "source": [
    "### Ingest lap_times folder\n",
    "\n",
    "This is for ingesting multiple files at the same time."
   ]
  },
  {
   "cell_type": "markdown",
   "metadata": {
    "application/vnd.databricks.v1+cell": {
     "cellMetadata": {
      "byteLimit": 2048000,
      "rowLimit": 10000
     },
     "inputWidgets": {},
     "nuid": "2d26c36a-f4dd-45ee-8e1d-dfe521a04dad",
     "showTitle": false,
     "title": ""
    }
   },
   "source": [
    "##### Step 1 - Read the CSV file using the spark dataframe reader API"
   ]
  },
  {
   "cell_type": "code",
   "execution_count": 0,
   "metadata": {
    "application/vnd.databricks.v1+cell": {
     "cellMetadata": {
      "byteLimit": 2048000,
      "rowLimit": 10000
     },
     "inputWidgets": {},
     "nuid": "099a00db-5cd4-446c-86e9-0a1b74778566",
     "showTitle": false,
     "title": ""
    }
   },
   "outputs": [],
   "source": [
    "from pyspark.sql.types import StructType, StructField, IntegerType, StringType"
   ]
  },
  {
   "cell_type": "code",
   "execution_count": 0,
   "metadata": {
    "application/vnd.databricks.v1+cell": {
     "cellMetadata": {
      "byteLimit": 2048000,
      "rowLimit": 10000
     },
     "inputWidgets": {},
     "nuid": "fd749f65-b7d0-4e41-8306-c1d72b660db5",
     "showTitle": false,
     "title": ""
    }
   },
   "outputs": [],
   "source": [
    "lap_times_schema = StructType(fields=[StructField(\"raceId\", IntegerType(), False),\n",
    "                                      StructField(\"driverId\", IntegerType(), True),\n",
    "                                      StructField(\"lap\", IntegerType(), True),\n",
    "                                      StructField(\"position\", IntegerType(), True),\n",
    "                                      StructField(\"time\", StringType(), True),\n",
    "                                      StructField(\"milliseconds\", IntegerType(), True)\n",
    "                                     ])"
   ]
  },
  {
   "cell_type": "code",
   "execution_count": 0,
   "metadata": {
    "application/vnd.databricks.v1+cell": {
     "cellMetadata": {
      "byteLimit": 2048000,
      "rowLimit": 10000
     },
     "inputWidgets": {},
     "nuid": "c4a98338-abaf-4543-8b7f-85ae52dd1ee3",
     "showTitle": false,
     "title": ""
    }
   },
   "outputs": [
    {
     "output_type": "display_data",
     "data": {
      "text/html": [
       "<style scoped>\n",
       "  .table-result-container {\n",
       "    max-height: 300px;\n",
       "    overflow: auto;\n",
       "  }\n",
       "  table, th, td {\n",
       "    border: 1px solid black;\n",
       "    border-collapse: collapse;\n",
       "  }\n",
       "  th, td {\n",
       "    padding: 5px;\n",
       "  }\n",
       "  th {\n",
       "    text-align: left;\n",
       "  }\n",
       "</style><div class='table-result-container'><table class='table-result'><thead style='background-color: white'><tr><th>path</th><th>name</th><th>size</th><th>modificationTime</th></tr></thead><tbody><tr><td>dbfs:/mnt/formula1dl/raw/lap_times/lap_times_split_1.csv</td><td>lap_times_split_1.csv</td><td>3016498</td><td>1703384683000</td></tr><tr><td>dbfs:/mnt/formula1dl/raw/lap_times/lap_times_split_2.csv</td><td>lap_times_split_2.csv</td><td>2959610</td><td>1703384684000</td></tr><tr><td>dbfs:/mnt/formula1dl/raw/lap_times/lap_times_split_3.csv</td><td>lap_times_split_3.csv</td><td>2880491</td><td>1703384684000</td></tr><tr><td>dbfs:/mnt/formula1dl/raw/lap_times/lap_times_split_4.csv</td><td>lap_times_split_4.csv</td><td>2882624</td><td>1703384685000</td></tr><tr><td>dbfs:/mnt/formula1dl/raw/lap_times/lap_times_split_5.csv</td><td>lap_times_split_5.csv</td><td>2806321</td><td>1703384685000</td></tr></tbody></table></div>"
      ]
     },
     "metadata": {
      "application/vnd.databricks.v1+output": {
       "addedWidgets": {},
       "aggData": [],
       "aggError": "",
       "aggOverflow": false,
       "aggSchema": [],
       "aggSeriesLimitReached": false,
       "aggType": "",
       "arguments": {},
       "columnCustomDisplayInfos": {},
       "data": [
        [
         "dbfs:/mnt/formula1dl/raw/lap_times/lap_times_split_1.csv",
         "lap_times_split_1.csv",
         3016498,
         1703384683000
        ],
        [
         "dbfs:/mnt/formula1dl/raw/lap_times/lap_times_split_2.csv",
         "lap_times_split_2.csv",
         2959610,
         1703384684000
        ],
        [
         "dbfs:/mnt/formula1dl/raw/lap_times/lap_times_split_3.csv",
         "lap_times_split_3.csv",
         2880491,
         1703384684000
        ],
        [
         "dbfs:/mnt/formula1dl/raw/lap_times/lap_times_split_4.csv",
         "lap_times_split_4.csv",
         2882624,
         1703384685000
        ],
        [
         "dbfs:/mnt/formula1dl/raw/lap_times/lap_times_split_5.csv",
         "lap_times_split_5.csv",
         2806321,
         1703384685000
        ]
       ],
       "datasetInfos": [],
       "dbfsResultPath": null,
       "isJsonSchema": true,
       "metadata": {
        "isDbfsCommandResult": false
       },
       "overflow": false,
       "plotOptions": {
        "customPlotOptions": {},
        "displayType": "table",
        "pivotAggregation": null,
        "pivotColumns": null,
        "xColumns": null,
        "yColumns": null
       },
       "removedWidgets": [],
       "schema": [
        {
         "metadata": "{}",
         "name": "path",
         "type": "\"string\""
        },
        {
         "metadata": "{}",
         "name": "name",
         "type": "\"string\""
        },
        {
         "metadata": "{}",
         "name": "size",
         "type": "\"long\""
        },
        {
         "metadata": "{}",
         "name": "modificationTime",
         "type": "\"long\""
        }
       ],
       "type": "table"
      }
     },
     "output_type": "display_data"
    }
   ],
   "source": [
    "%fs ls /mnt/formula1dl/raw/lap_times"
   ]
  },
  {
   "cell_type": "markdown",
   "metadata": {
    "application/vnd.databricks.v1+cell": {
     "cellMetadata": {
      "byteLimit": 2048000,
      "rowLimit": 10000
     },
     "inputWidgets": {},
     "nuid": "d149d077-7660-475f-9fae-d0f22645d80d",
     "showTitle": false,
     "title": ""
    }
   },
   "source": [
    "##### Import an entire folder of files"
   ]
  },
  {
   "cell_type": "code",
   "execution_count": 0,
   "metadata": {
    "application/vnd.databricks.v1+cell": {
     "cellMetadata": {
      "byteLimit": 2048000,
      "rowLimit": 10000
     },
     "inputWidgets": {},
     "nuid": "8bd0c6d1-703a-4b74-ad69-bb5e5e21d65f",
     "showTitle": false,
     "title": ""
    }
   },
   "outputs": [],
   "source": [
    "lap_times_df = spark.read \\\n",
    ".schema(lap_times_schema) \\\n",
    ".csv(\"/mnt/formula1dl/raw/lap_times\")"
   ]
  },
  {
   "cell_type": "code",
   "execution_count": 0,
   "metadata": {
    "application/vnd.databricks.v1+cell": {
     "cellMetadata": {
      "byteLimit": 2048000,
      "rowLimit": 10000
     },
     "inputWidgets": {},
     "nuid": "d0bc64b8-ca10-474e-84eb-06bbf32cb3db",
     "showTitle": false,
     "title": ""
    }
   },
   "outputs": [
    {
     "output_type": "stream",
     "name": "stdout",
     "output_type": "stream",
     "text": [
      "Out[20]: 490904"
     ]
    }
   ],
   "source": [
    "lap_times_df.count()"
   ]
  },
  {
   "cell_type": "code",
   "execution_count": 0,
   "metadata": {
    "application/vnd.databricks.v1+cell": {
     "cellMetadata": {
      "byteLimit": 2048000,
      "rowLimit": 10000
     },
     "inputWidgets": {},
     "nuid": "10b660e6-a3db-4767-8eb4-7f8965de0c30",
     "showTitle": false,
     "title": ""
    }
   },
   "outputs": [
    {
     "output_type": "stream",
     "name": "stdout",
     "output_type": "stream",
     "text": [
      "+------+--------+---+--------+--------+------------+\n|raceId|driverId|lap|position|    time|milliseconds|\n+------+--------+---+--------+--------+------------+\n|   841|      20|  1|       1|1:38.109|       98109|\n|   841|      20|  2|       1|1:33.006|       93006|\n|   841|      20|  3|       1|1:32.713|       92713|\n|   841|      20|  4|       1|1:32.803|       92803|\n|   841|      20|  5|       1|1:32.342|       92342|\n+------+--------+---+--------+--------+------------+\n\n"
     ]
    }
   ],
   "source": [
    "lap_times_df.limit(5).show()"
   ]
  },
  {
   "cell_type": "markdown",
   "metadata": {
    "application/vnd.databricks.v1+cell": {
     "cellMetadata": {
      "byteLimit": 2048000,
      "rowLimit": 10000
     },
     "inputWidgets": {},
     "nuid": "419d8597-9176-4110-971e-da6852b6f3b6",
     "showTitle": false,
     "title": ""
    }
   },
   "source": [
    "##### Step 2 - Rename columns and add new columns\n",
    "1. Rename driverId and raceId\n",
    "1. Add ingestion_date with current timestamp"
   ]
  },
  {
   "cell_type": "code",
   "execution_count": 0,
   "metadata": {
    "application/vnd.databricks.v1+cell": {
     "cellMetadata": {
      "byteLimit": 2048000,
      "rowLimit": 10000
     },
     "inputWidgets": {},
     "nuid": "f92f9547-9938-4e13-acb3-32abc028401e",
     "showTitle": false,
     "title": ""
    }
   },
   "outputs": [],
   "source": [
    "from pyspark.sql.functions import current_timestamp"
   ]
  },
  {
   "cell_type": "code",
   "execution_count": 0,
   "metadata": {
    "application/vnd.databricks.v1+cell": {
     "cellMetadata": {
      "byteLimit": 2048000,
      "rowLimit": 10000
     },
     "inputWidgets": {},
     "nuid": "ac17a078-cd99-44cb-8766-4e8e7063673b",
     "showTitle": false,
     "title": ""
    }
   },
   "outputs": [],
   "source": [
    "final_df = lap_times_df.withColumnRenamed(\"driverId\", \"driver_id\") \\\n",
    ".withColumnRenamed(\"raceId\", \"race_id\") \\\n",
    ".withColumn(\"ingestion_date\", current_timestamp())"
   ]
  },
  {
   "cell_type": "code",
   "execution_count": 0,
   "metadata": {
    "application/vnd.databricks.v1+cell": {
     "cellMetadata": {
      "byteLimit": 2048000,
      "rowLimit": 10000
     },
     "inputWidgets": {},
     "nuid": "2c414aa3-f21b-45b4-b59b-6a5ca29780e1",
     "showTitle": false,
     "title": ""
    }
   },
   "outputs": [
    {
     "output_type": "stream",
     "name": "stdout",
     "output_type": "stream",
     "text": [
      "+----------+-------+---------+--------------+------+--------+--------+--------+--------+--------------------+\n|qualify_id|race_id|driver_id|constructor_id|number|position|      q1|      q2|      q3|      ingestion_date|\n+----------+-------+---------+--------------+------+--------+--------+--------+--------+--------------------+\n|         1|     18|        1|             1|    22|       1|1:26.572|1:25.187|1:26.714|2023-12-24 04:49:...|\n|         2|     18|        9|             2|     4|       2|1:26.103|1:25.315|1:26.869|2023-12-24 04:49:...|\n|         3|     18|        5|             1|    23|       3|1:25.664|1:25.452|1:27.079|2023-12-24 04:49:...|\n|         4|     18|       13|             6|     2|       4|1:25.994|1:25.691|1:27.178|2023-12-24 04:49:...|\n|         5|     18|        2|             2|     3|       5|1:25.960|1:25.518|1:27.236|2023-12-24 04:49:...|\n+----------+-------+---------+--------------+------+--------+--------+--------+--------+--------------------+\n\n"
     ]
    }
   ],
   "source": [
    "final_df.limit(5).show()"
   ]
  },
  {
   "cell_type": "markdown",
   "metadata": {
    "application/vnd.databricks.v1+cell": {
     "cellMetadata": {
      "byteLimit": 2048000,
      "rowLimit": 10000
     },
     "inputWidgets": {},
     "nuid": "747c761f-9dea-46b7-8b1d-e7272b745926",
     "showTitle": false,
     "title": ""
    }
   },
   "source": [
    "##### Step 3 - Write to output to processed container in parquet format"
   ]
  },
  {
   "cell_type": "code",
   "execution_count": 0,
   "metadata": {
    "application/vnd.databricks.v1+cell": {
     "cellMetadata": {
      "byteLimit": 2048000,
      "rowLimit": 10000
     },
     "inputWidgets": {},
     "nuid": "3bad7d4a-32df-433a-8838-8bae46ef0ee0",
     "showTitle": false,
     "title": ""
    }
   },
   "outputs": [],
   "source": [
    "final_df.write.mode(\"overwrite\").parquet(\"/mnt/formula1dl/processed/lap_times\")"
   ]
  },
  {
   "cell_type": "code",
   "execution_count": 0,
   "metadata": {
    "application/vnd.databricks.v1+cell": {
     "cellMetadata": {
      "byteLimit": 2048000,
      "rowLimit": 10000
     },
     "inputWidgets": {},
     "nuid": "bd6769f2-96fe-4bf2-bcc9-36198dee8c36",
     "showTitle": false,
     "title": ""
    }
   },
   "outputs": [
    {
     "output_type": "stream",
     "name": "stdout",
     "output_type": "stream",
     "text": [
      "+-------+---------+---+--------+--------+------------+--------------------+\n|race_id|driver_id|lap|position|    time|milliseconds|      ingestion_date|\n+-------+---------+---+--------+--------+------------+--------------------+\n|     67|       14| 26|      13|1:25.802|       85802|2023-12-24 04:19:...|\n|     67|       14| 27|      13|1:25.338|       85338|2023-12-24 04:19:...|\n|     67|       14| 28|      13|1:25.395|       85395|2023-12-24 04:19:...|\n|     67|       14| 29|      12|1:26.191|       86191|2023-12-24 04:19:...|\n|     67|       14| 30|      11|1:25.439|       85439|2023-12-24 04:19:...|\n+-------+---------+---+--------+--------+------------+--------------------+\n\n"
     ]
    }
   ],
   "source": [
    "spark.read.parquet('/mnt/formula1dl/processed/lap_times').limit(5).show()"
   ]
  },
  {
   "cell_type": "markdown",
   "metadata": {
    "application/vnd.databricks.v1+cell": {
     "cellMetadata": {
      "byteLimit": 2048000,
      "rowLimit": 10000
     },
     "inputWidgets": {},
     "nuid": "f93eb527-c706-43f9-b130-9e07ff5c970d",
     "showTitle": false,
     "title": ""
    }
   },
   "source": [
    "# PART 2: Ingest multiple json files\n",
    "\n",
    "Importing multiple multi-line JSON files\n",
    "* must specify multiline as true"
   ]
  },
  {
   "cell_type": "markdown",
   "metadata": {
    "application/vnd.databricks.v1+cell": {
     "cellMetadata": {
      "byteLimit": 2048000,
      "rowLimit": 10000
     },
     "inputWidgets": {},
     "nuid": "30f5bc11-222c-4162-854d-a20d0c47f7c6",
     "showTitle": false,
     "title": ""
    }
   },
   "source": [
    "##### Step 1 - Read the JSON file using the spark dataframe reader API"
   ]
  },
  {
   "cell_type": "code",
   "execution_count": 0,
   "metadata": {
    "application/vnd.databricks.v1+cell": {
     "cellMetadata": {
      "byteLimit": 2048000,
      "rowLimit": 10000
     },
     "inputWidgets": {},
     "nuid": "5cd8ea86-1da5-443a-84cf-48d92bf03a32",
     "showTitle": false,
     "title": ""
    }
   },
   "outputs": [],
   "source": [
    "from pyspark.sql.types import StructType, StructField, IntegerType, StringType"
   ]
  },
  {
   "cell_type": "code",
   "execution_count": 0,
   "metadata": {
    "application/vnd.databricks.v1+cell": {
     "cellMetadata": {
      "byteLimit": 2048000,
      "rowLimit": 10000
     },
     "inputWidgets": {},
     "nuid": "4ac9d2fa-96ab-4459-a120-609700c326dd",
     "showTitle": false,
     "title": ""
    }
   },
   "outputs": [],
   "source": [
    "qualifying_schema = StructType(fields=[StructField(\"qualifyId\", IntegerType(), False),\n",
    "                                      StructField(\"raceId\", IntegerType(), True),\n",
    "                                      StructField(\"driverId\", IntegerType(), True),\n",
    "                                      StructField(\"constructorId\", IntegerType(), True),\n",
    "                                      StructField(\"number\", IntegerType(), True),\n",
    "                                      StructField(\"position\", IntegerType(), True),\n",
    "                                      StructField(\"q1\", StringType(), True),\n",
    "                                      StructField(\"q2\", StringType(), True),\n",
    "                                      StructField(\"q3\", StringType(), True),\n",
    "                                     ])"
   ]
  },
  {
   "cell_type": "code",
   "execution_count": 0,
   "metadata": {
    "application/vnd.databricks.v1+cell": {
     "cellMetadata": {
      "byteLimit": 2048000,
      "rowLimit": 10000
     },
     "inputWidgets": {},
     "nuid": "2c74a751-e1aa-4259-a83e-897d7f229fdc",
     "showTitle": false,
     "title": ""
    }
   },
   "outputs": [
    {
     "output_type": "display_data",
     "data": {
      "text/html": [
       "<style scoped>\n",
       "  .table-result-container {\n",
       "    max-height: 300px;\n",
       "    overflow: auto;\n",
       "  }\n",
       "  table, th, td {\n",
       "    border: 1px solid black;\n",
       "    border-collapse: collapse;\n",
       "  }\n",
       "  th, td {\n",
       "    padding: 5px;\n",
       "  }\n",
       "  th {\n",
       "    text-align: left;\n",
       "  }\n",
       "</style><div class='table-result-container'><table class='table-result'><thead style='background-color: white'><tr><th>path</th><th>name</th><th>size</th><th>modificationTime</th></tr></thead><tbody><tr><td>dbfs:/mnt/formula1dl/raw/qualifying/__qualifying_split_1.json</td><td>__qualifying_split_1.json</td><td>368</td><td>1703389598000</td></tr><tr><td>dbfs:/mnt/formula1dl/raw/qualifying/__qualifying_split_2.json</td><td>__qualifying_split_2.json</td><td>312</td><td>1703389598000</td></tr></tbody></table></div>"
      ]
     },
     "metadata": {
      "application/vnd.databricks.v1+output": {
       "addedWidgets": {},
       "aggData": [],
       "aggError": "",
       "aggOverflow": false,
       "aggSchema": [],
       "aggSeriesLimitReached": false,
       "aggType": "",
       "arguments": {},
       "columnCustomDisplayInfos": {},
       "data": [
        [
         "dbfs:/mnt/formula1dl/raw/qualifying/__qualifying_split_1.json",
         "__qualifying_split_1.json",
         368,
         1703389598000
        ],
        [
         "dbfs:/mnt/formula1dl/raw/qualifying/__qualifying_split_2.json",
         "__qualifying_split_2.json",
         312,
         1703389598000
        ]
       ],
       "datasetInfos": [],
       "dbfsResultPath": null,
       "isJsonSchema": true,
       "metadata": {
        "isDbfsCommandResult": false
       },
       "overflow": false,
       "plotOptions": {
        "customPlotOptions": {},
        "displayType": "table",
        "pivotAggregation": null,
        "pivotColumns": null,
        "xColumns": null,
        "yColumns": null
       },
       "removedWidgets": [],
       "schema": [
        {
         "metadata": "{}",
         "name": "path",
         "type": "\"string\""
        },
        {
         "metadata": "{}",
         "name": "name",
         "type": "\"string\""
        },
        {
         "metadata": "{}",
         "name": "size",
         "type": "\"long\""
        },
        {
         "metadata": "{}",
         "name": "modificationTime",
         "type": "\"long\""
        }
       ],
       "type": "table"
      }
     },
     "output_type": "display_data"
    }
   ],
   "source": [
    "%fs ls /mnt/formula1dl/raw/qualifying/"
   ]
  },
  {
   "cell_type": "code",
   "execution_count": 0,
   "metadata": {
    "application/vnd.databricks.v1+cell": {
     "cellMetadata": {
      "byteLimit": 2048000,
      "rowLimit": 10000
     },
     "inputWidgets": {},
     "nuid": "b19204fa-8bc8-4192-866e-83cc93bc8116",
     "showTitle": false,
     "title": ""
    }
   },
   "outputs": [
    {
     "output_type": "stream",
     "name": "stdout",
     "output_type": "stream",
     "text": [
      "+---------+------+--------+-------------+------+--------+--------+--------+--------+\n|qualifyId|raceId|driverId|constructorId|number|position|      q1|      q2|      q3|\n+---------+------+--------+-------------+------+--------+--------+--------+--------+\n|        1|    18|       1|            1|    22|       1|1:26.572|1:25.187|1:26.714|\n|        2|    18|       9|            2|     4|       2|1:26.103|1:25.315|1:26.869|\n|        3|    18|       5|            1|    23|       3|1:25.664|1:25.452|1:27.079|\n|        4|    18|      13|            6|     2|       4|1:25.994|1:25.691|1:27.178|\n|        5|    18|       2|            2|     3|       5|1:25.960|1:25.518|1:27.236|\n+---------+------+--------+-------------+------+--------+--------+--------+--------+\n\n"
     ]
    }
   ],
   "source": [
    "qualifying_df = spark.read \\\n",
    ".schema(qualifying_schema) \\\n",
    ".option(\"multiLine\", True) \\\n",
    ".json(\"/mnt/formula1dl/raw/qualifying\")\n",
    "\n",
    "qualifying_df.limit(5).show()"
   ]
  },
  {
   "cell_type": "markdown",
   "metadata": {
    "application/vnd.databricks.v1+cell": {
     "cellMetadata": {
      "byteLimit": 2048000,
      "rowLimit": 10000
     },
     "inputWidgets": {},
     "nuid": "ca30a66e-2121-4999-be5d-df01cd94da7b",
     "showTitle": false,
     "title": ""
    }
   },
   "source": [
    "##### Step 2 - Rename columns and add new columns\n",
    "1. Rename qualifyingId, driverId, constructorId and raceId\n",
    "1. Add ingestion_date with current timestamp"
   ]
  },
  {
   "cell_type": "code",
   "execution_count": 0,
   "metadata": {
    "application/vnd.databricks.v1+cell": {
     "cellMetadata": {
      "byteLimit": 2048000,
      "rowLimit": 10000
     },
     "inputWidgets": {},
     "nuid": "1f27ebe7-3cf0-4dc8-8f7d-2db4621970f3",
     "showTitle": false,
     "title": ""
    }
   },
   "outputs": [],
   "source": [
    "from pyspark.sql.functions import current_timestamp"
   ]
  },
  {
   "cell_type": "code",
   "execution_count": 0,
   "metadata": {
    "application/vnd.databricks.v1+cell": {
     "cellMetadata": {
      "byteLimit": 2048000,
      "rowLimit": 10000
     },
     "inputWidgets": {},
     "nuid": "6f86fe62-980a-4e18-9cbd-8fe5a51ce5e6",
     "showTitle": false,
     "title": ""
    }
   },
   "outputs": [],
   "source": [
    "final_df = qualifying_df.withColumnRenamed(\"qualifyId\", \"qualify_id\") \\\n",
    ".withColumnRenamed(\"driverId\", \"driver_id\") \\\n",
    ".withColumnRenamed(\"raceId\", \"race_id\") \\\n",
    ".withColumnRenamed(\"constructorId\", \"constructor_id\") \\\n",
    ".withColumn(\"ingestion_date\", current_timestamp())"
   ]
  },
  {
   "cell_type": "code",
   "execution_count": 0,
   "metadata": {
    "application/vnd.databricks.v1+cell": {
     "cellMetadata": {
      "byteLimit": 2048000,
      "rowLimit": 10000
     },
     "inputWidgets": {},
     "nuid": "ba5271a2-af2a-43a2-b8fa-53ae1766d2bf",
     "showTitle": false,
     "title": ""
    }
   },
   "outputs": [
    {
     "output_type": "stream",
     "name": "stdout",
     "output_type": "stream",
     "text": [
      "+----------+-------+---------+--------------+------+--------+--------+--------+--------+--------------------+\n|qualify_id|race_id|driver_id|constructor_id|number|position|      q1|      q2|      q3|      ingestion_date|\n+----------+-------+---------+--------------+------+--------+--------+--------+--------+--------------------+\n|         1|     18|        1|             1|    22|       1|1:26.572|1:25.187|1:26.714|2023-12-24 04:48:...|\n|         2|     18|        9|             2|     4|       2|1:26.103|1:25.315|1:26.869|2023-12-24 04:48:...|\n|         3|     18|        5|             1|    23|       3|1:25.664|1:25.452|1:27.079|2023-12-24 04:48:...|\n|         4|     18|       13|             6|     2|       4|1:25.994|1:25.691|1:27.178|2023-12-24 04:48:...|\n|         5|     18|        2|             2|     3|       5|1:25.960|1:25.518|1:27.236|2023-12-24 04:48:...|\n+----------+-------+---------+--------------+------+--------+--------+--------+--------+--------------------+\n\n"
     ]
    }
   ],
   "source": [
    "final_df.limit(5).show()"
   ]
  },
  {
   "cell_type": "markdown",
   "metadata": {
    "application/vnd.databricks.v1+cell": {
     "cellMetadata": {
      "byteLimit": 2048000,
      "rowLimit": 10000
     },
     "inputWidgets": {},
     "nuid": "f2506040-6d45-401d-9d56-c1d523782be3",
     "showTitle": false,
     "title": ""
    }
   },
   "source": [
    "##### Step 3 - Write to output to processed container in parquet format"
   ]
  },
  {
   "cell_type": "code",
   "execution_count": 0,
   "metadata": {
    "application/vnd.databricks.v1+cell": {
     "cellMetadata": {
      "byteLimit": 2048000,
      "rowLimit": 10000
     },
     "inputWidgets": {},
     "nuid": "8072f9a9-4aaf-4ac5-912e-198a945862f7",
     "showTitle": false,
     "title": ""
    }
   },
   "outputs": [],
   "source": [
    "final_df.write.mode(\"overwrite\").parquet(\"/mnt/formula1dl/processed/qualifying\")"
   ]
  },
  {
   "cell_type": "code",
   "execution_count": 0,
   "metadata": {
    "application/vnd.databricks.v1+cell": {
     "cellMetadata": {
      "byteLimit": 2048000,
      "rowLimit": 10000
     },
     "inputWidgets": {},
     "nuid": "ec7015db-c6f3-404d-9b94-ac6eb13e505e",
     "showTitle": false,
     "title": ""
    }
   },
   "outputs": [
    {
     "output_type": "stream",
     "name": "stdout",
     "output_type": "stream",
     "text": [
      "+----------+-------+---------+--------------+------+--------+--------+--------+--------+--------------------+\n|qualify_id|race_id|driver_id|constructor_id|number|position|      q1|      q2|      q3|      ingestion_date|\n+----------+-------+---------+--------------+------+--------+--------+--------+--------+--------------------+\n|         1|     18|        1|             1|    22|       1|1:26.572|1:25.187|1:26.714|2023-12-24 04:05:...|\n|         2|     18|        9|             2|     4|       2|1:26.103|1:25.315|1:26.869|2023-12-24 04:05:...|\n|         3|     18|        5|             1|    23|       3|1:25.664|1:25.452|1:27.079|2023-12-24 04:05:...|\n|         4|     18|       13|             6|     2|       4|1:25.994|1:25.691|1:27.178|2023-12-24 04:05:...|\n|         5|     18|        2|             2|     3|       5|1:25.960|1:25.518|1:27.236|2023-12-24 04:05:...|\n+----------+-------+---------+--------------+------+--------+--------+--------+--------+--------------------+\n\n"
     ]
    }
   ],
   "source": [
    "spark.read.parquet('/mnt/formula1dl/processed/qualifying').limit(5).show()"
   ]
  },
  {
   "cell_type": "code",
   "execution_count": 0,
   "metadata": {
    "application/vnd.databricks.v1+cell": {
     "cellMetadata": {},
     "inputWidgets": {},
     "nuid": "cd5367a0-5e7b-4fec-8fce-585267f5c027",
     "showTitle": false,
     "title": ""
    }
   },
   "outputs": [],
   "source": []
  }
 ],
 "metadata": {
  "application/vnd.databricks.v1+notebook": {
   "dashboards": [],
   "language": "python",
   "notebookMetadata": {
    "mostRecentlyExecutedCommandWithImplicitDF": {
     "commandId": 2440193599434403,
     "dataframes": [
      "_sqldf"
     ]
    },
    "pythonIndentUnit": 4
   },
   "notebookName": "SparkSkills LVL_1 Multiple File Ingestion via Databricks.ipynb",
   "widgets": {}
  }
 },
 "nbformat": 4,
 "nbformat_minor": 0
}
