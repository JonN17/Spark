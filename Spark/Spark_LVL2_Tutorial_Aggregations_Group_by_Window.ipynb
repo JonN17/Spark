{
 "cells": [
  {
   "cell_type": "markdown",
   "metadata": {
    "application/vnd.databricks.v1+cell": {
     "cellMetadata": {},
     "inputWidgets": {},
     "nuid": "61ec3f9a-7c18-4354-88af-d022ba8088c2",
     "showTitle": false,
     "title": ""
    }
   },
   "source": [
    "### Tutorial: Basic Aggregations, Group By, Window Functions\n",
    "Covers\n",
    "* Aggregations\n",
    "* Group By\n",
    "* Window Functions\n",
    "\n",
    "This isn't part of a project, this simple demonstrations of the various tools in Spark / PostGresQL"
   ]
  },
  {
   "cell_type": "code",
   "execution_count": 0,
   "metadata": {
    "application/vnd.databricks.v1+cell": {
     "cellMetadata": {
      "byteLimit": 2048000,
      "rowLimit": 10000
     },
     "inputWidgets": {},
     "nuid": "f5c3c0ef-5352-4637-871e-94cca8044b56",
     "showTitle": false,
     "title": ""
    }
   },
   "outputs": [],
   "source": [
    "%run \"./includes/config_file_paths\""
   ]
  },
  {
   "cell_type": "code",
   "execution_count": 0,
   "metadata": {
    "application/vnd.databricks.v1+cell": {
     "cellMetadata": {
      "byteLimit": 2048000,
      "rowLimit": 10000
     },
     "inputWidgets": {},
     "nuid": "5b3b9ac1-4b89-49fa-9bdd-930c15863d94",
     "showTitle": false,
     "title": ""
    }
   },
   "outputs": [],
   "source": [
    "race_results_df=spark.read.parquet(f\"{presentation_folder_path}/race_results\")"
   ]
  },
  {
   "cell_type": "code",
   "execution_count": 0,
   "metadata": {
    "application/vnd.databricks.v1+cell": {
     "cellMetadata": {
      "byteLimit": 2048000,
      "rowLimit": 10000
     },
     "inputWidgets": {},
     "nuid": "a205c1bd-83d2-4a36-9893-77736043bb84",
     "showTitle": false,
     "title": ""
    }
   },
   "outputs": [],
   "source": [
    "demo_df=race_results_df.filter(\"race_year=2020\")"
   ]
  },
  {
   "cell_type": "markdown",
   "metadata": {
    "application/vnd.databricks.v1+cell": {
     "cellMetadata": {
      "byteLimit": 2048000,
      "rowLimit": 10000
     },
     "inputWidgets": {},
     "nuid": "9e293963-2e30-488c-ac63-f72c2ff56579",
     "showTitle": false,
     "title": ""
    }
   },
   "source": [
    "## Aggregations\n",
    "Sum count, min, max, etc....\n",
    "\n",
    "Documentation:\n",
    "* https://spark.apache.org/docs/3.1.1/api/python/reference/pyspark.sql.html#functions\n",
    "\n",
    "and then search for \"Aggregate\""
   ]
  },
  {
   "cell_type": "code",
   "execution_count": 0,
   "metadata": {
    "application/vnd.databricks.v1+cell": {
     "cellMetadata": {
      "byteLimit": 2048000,
      "rowLimit": 10000
     },
     "inputWidgets": {},
     "nuid": "d4d8507b-cce7-4037-9eb1-554f45073c32",
     "showTitle": false,
     "title": ""
    }
   },
   "outputs": [],
   "source": [
    "from pyspark.sql.functions import sum, when, count, col, countDistinct\n"
   ]
  },
  {
   "cell_type": "code",
   "execution_count": 0,
   "metadata": {
    "application/vnd.databricks.v1+cell": {
     "cellMetadata": {
      "byteLimit": 2048000,
      "rowLimit": 10000
     },
     "inputWidgets": {},
     "nuid": "0bb98a25-6f42-4bd4-ae72-98473eb4b4ae",
     "showTitle": false,
     "title": ""
    }
   },
   "outputs": [
    {
     "output_type": "stream",
     "name": "stdout",
     "output_type": "stream",
     "text": [
      "+--------+\n|count(1)|\n+--------+\n|     340|\n+--------+\n\n"
     ]
    }
   ],
   "source": [
    "demo_df.select(count(\"*\")).show()"
   ]
  },
  {
   "cell_type": "markdown",
   "metadata": {
    "application/vnd.databricks.v1+cell": {
     "cellMetadata": {
      "byteLimit": 2048000,
      "rowLimit": 10000
     },
     "inputWidgets": {},
     "nuid": "7e1f85da-fa7d-42f2-a0de-29a5058322aa",
     "showTitle": false,
     "title": ""
    }
   },
   "source": [
    "##### Number of distinct races in 2020"
   ]
  },
  {
   "cell_type": "code",
   "execution_count": 0,
   "metadata": {
    "application/vnd.databricks.v1+cell": {
     "cellMetadata": {
      "byteLimit": 2048000,
      "rowLimit": 10000
     },
     "inputWidgets": {},
     "nuid": "bbe10286-004a-42d5-902b-acaed2ce4a15",
     "showTitle": false,
     "title": ""
    }
   },
   "outputs": [
    {
     "output_type": "stream",
     "name": "stdout",
     "output_type": "stream",
     "text": [
      "+-------------------------+\n|count(DISTINCT race_name)|\n+-------------------------+\n|                       17|\n+-------------------------+\n\n"
     ]
    }
   ],
   "source": [
    "demo_df.select(countDistinct(\"race_name\")).show()"
   ]
  },
  {
   "cell_type": "markdown",
   "metadata": {
    "application/vnd.databricks.v1+cell": {
     "cellMetadata": {
      "byteLimit": 2048000,
      "rowLimit": 10000
     },
     "inputWidgets": {},
     "nuid": "a4a097d5-a70f-4bc5-a1df-46af25619c2b",
     "showTitle": false,
     "title": ""
    }
   },
   "source": [
    "##### Sum of Points"
   ]
  },
  {
   "cell_type": "code",
   "execution_count": 0,
   "metadata": {
    "application/vnd.databricks.v1+cell": {
     "cellMetadata": {
      "byteLimit": 2048000,
      "rowLimit": 10000
     },
     "inputWidgets": {},
     "nuid": "95f39a96-db9e-4bd3-b299-17762f0583c6",
     "showTitle": false,
     "title": ""
    }
   },
   "outputs": [
    {
     "output_type": "stream",
     "name": "stdout",
     "output_type": "stream",
     "text": [
      "+-----------+\n|sum(points)|\n+-----------+\n|     1734.0|\n+-----------+\n\n"
     ]
    }
   ],
   "source": [
    "demo_df.select(sum(\"points\")).show()"
   ]
  },
  {
   "cell_type": "markdown",
   "metadata": {
    "application/vnd.databricks.v1+cell": {
     "cellMetadata": {
      "byteLimit": 2048000,
      "rowLimit": 10000
     },
     "inputWidgets": {},
     "nuid": "1092815b-c4c7-4ac9-badb-3f27603d9945",
     "showTitle": false,
     "title": ""
    }
   },
   "source": [
    "##### How many points Lewis Hamilton scored"
   ]
  },
  {
   "cell_type": "code",
   "execution_count": 0,
   "metadata": {
    "application/vnd.databricks.v1+cell": {
     "cellMetadata": {
      "byteLimit": 2048000,
      "rowLimit": 10000
     },
     "inputWidgets": {},
     "nuid": "7b078c62-f2fa-4bb9-984a-9f1292fd46de",
     "showTitle": false,
     "title": ""
    }
   },
   "outputs": [
    {
     "output_type": "stream",
     "name": "stdout",
     "output_type": "stream",
     "text": [
      "+-----------+\n|sum(points)|\n+-----------+\n|      347.0|\n+-----------+\n\n"
     ]
    }
   ],
   "source": [
    "demo_df.filter(\"driver_name = 'Lewis Hamilton'\").select(sum(\"points\")).show()"
   ]
  },
  {
   "cell_type": "markdown",
   "metadata": {
    "application/vnd.databricks.v1+cell": {
     "cellMetadata": {
      "byteLimit": 2048000,
      "rowLimit": 10000
     },
     "inputWidgets": {},
     "nuid": "975c6e6d-d9e4-4455-8eea-0bed9e305579",
     "showTitle": false,
     "title": ""
    }
   },
   "source": [
    "##### Lewis Hamilton had Covid in 2020 so he's missing 1 race 16 instead of 17"
   ]
  },
  {
   "cell_type": "code",
   "execution_count": 0,
   "metadata": {
    "application/vnd.databricks.v1+cell": {
     "cellMetadata": {
      "byteLimit": 2048000,
      "rowLimit": 10000
     },
     "inputWidgets": {},
     "nuid": "38e71c4a-b4a7-4aa2-98d5-83b9d54ebfca",
     "showTitle": false,
     "title": ""
    }
   },
   "outputs": [
    {
     "output_type": "stream",
     "name": "stdout",
     "output_type": "stream",
     "text": [
      "+-----------+-------------------------+\n|sum(points)|count(DISTINCT race_name)|\n+-----------+-------------------------+\n|      347.0|                       16|\n+-----------+-------------------------+\n\n"
     ]
    }
   ],
   "source": [
    "demo_df.filter(\"driver_name = 'Lewis Hamilton'\").select(sum(\"points\"), countDistinct(\"race_name\")).show()"
   ]
  },
  {
   "cell_type": "markdown",
   "metadata": {
    "application/vnd.databricks.v1+cell": {
     "cellMetadata": {
      "byteLimit": 2048000,
      "rowLimit": 10000
     },
     "inputWidgets": {},
     "nuid": "047c13b1-f95a-4676-9dba-a2d9ea95d9fd",
     "showTitle": false,
     "title": ""
    }
   },
   "source": [
    "#### Number of distinct races in 2020"
   ]
  },
  {
   "cell_type": "code",
   "execution_count": 0,
   "metadata": {
    "application/vnd.databricks.v1+cell": {
     "cellMetadata": {
      "byteLimit": 2048000,
      "rowLimit": 10000
     },
     "inputWidgets": {},
     "nuid": "0b85bc85-5464-4065-bcc0-b81a40883edc",
     "showTitle": false,
     "title": ""
    }
   },
   "outputs": [
    {
     "output_type": "stream",
     "name": "stdout",
     "output_type": "stream",
     "text": [
      "+------------+---------------+\n|total_points|number_of_races|\n+------------+---------------+\n|       347.0|             16|\n+------------+---------------+\n\n"
     ]
    }
   ],
   "source": [
    "demo_df.filter(\"driver_name = 'Lewis Hamilton'\").select(sum(\"points\"), countDistinct(\"race_name\")) \\\n",
    "    .withColumnRenamed(\"sum(points)\",\"total_points\") \\\n",
    "    .withColumnRenamed(\"count(DISTINCT race_name)\",\"number_of_races\") \\\n",
    "    .show()"
   ]
  },
  {
   "cell_type": "markdown",
   "metadata": {
    "application/vnd.databricks.v1+cell": {
     "cellMetadata": {
      "byteLimit": 2048000,
      "rowLimit": 10000
     },
     "inputWidgets": {},
     "nuid": "723afe4f-f2c9-4942-8300-ed06941d5217",
     "showTitle": false,
     "title": ""
    }
   },
   "source": [
    "### Group Aggregations"
   ]
  },
  {
   "cell_type": "code",
   "execution_count": 0,
   "metadata": {
    "application/vnd.databricks.v1+cell": {
     "cellMetadata": {
      "byteLimit": 2048000,
      "rowLimit": 10000
     },
     "inputWidgets": {},
     "nuid": "04e6a5fe-30bc-416d-9c2e-8499f32c38aa",
     "showTitle": false,
     "title": ""
    }
   },
   "outputs": [
    {
     "output_type": "stream",
     "name": "stdout",
     "output_type": "stream",
     "text": [
      "+------------+---------------+\n|total_points|number_of_races|\n+------------+---------------+\n|       347.0|             16|\n+------------+---------------+\n\n"
     ]
    }
   ],
   "source": [
    "demo_df.filter(\"driver_name = 'Lewis Hamilton'\").select(sum(\"points\"), countDistinct(\"race_name\")) \\\n",
    "    .withColumnRenamed(\"sum(points)\",\"total_points\") \\\n",
    "    .withColumnRenamed(\"count(DISTINCT race_name)\",\"number_of_races\") \\\n",
    "    .show()"
   ]
  },
  {
   "cell_type": "markdown",
   "metadata": {
    "application/vnd.databricks.v1+cell": {
     "cellMetadata": {
      "byteLimit": 2048000,
      "rowLimit": 10000
     },
     "inputWidgets": {},
     "nuid": "e09e3ade-61f7-45ee-ae7f-07990063d534",
     "showTitle": false,
     "title": ""
    }
   },
   "source": [
    "### Group By\n",
    "\n",
    "You can't do group by after sum() as that changes the datatype to Pandas DataFrame\n",
    "\n",
    "```\n",
    "demo_df \\\n",
    "    .groupBy(\"driver_name\") \\\n",
    "    .sum(\"points\") \n",
    "\n",
    "Out[21]: DataFrame[driver_name: string, sum(points): double]\n",
    "\n",
    "```\n",
    "so you must use .agg()\n",
    "\n",
    "\n",
    "https://spark.apache.org/docs/3.1.1/api/python/reference/api/pyspark.sql.DataFrame.agg.html#pyspark.sql.DataFrame.agg"
   ]
  },
  {
   "cell_type": "code",
   "execution_count": 0,
   "metadata": {
    "application/vnd.databricks.v1+cell": {
     "cellMetadata": {
      "byteLimit": 2048000,
      "rowLimit": 10000
     },
     "inputWidgets": {},
     "nuid": "db048a59-c45c-4130-8e27-583bdd8ebe22",
     "showTitle": false,
     "title": ""
    }
   },
   "outputs": [
    {
     "output_type": "stream",
     "name": "stdout",
     "output_type": "stream",
     "text": [
      "Out[13]: DataFrame[driver_name: string, sum(points): double]"
     ]
    }
   ],
   "source": [
    "demo_df \\\n",
    "    .groupBy(\"driver_name\") \\\n",
    "    .sum(\"points\") "
   ]
  },
  {
   "cell_type": "code",
   "execution_count": 0,
   "metadata": {
    "application/vnd.databricks.v1+cell": {
     "cellMetadata": {
      "byteLimit": 2048000,
      "rowLimit": 10000
     },
     "inputWidgets": {},
     "nuid": "d7783db2-d73b-4f36-941d-e8d53f139f85",
     "showTitle": false,
     "title": ""
    }
   },
   "outputs": [
    {
     "output_type": "stream",
     "name": "stdout",
     "output_type": "stream",
     "text": [
      "+------------------+------------+----------------+\n|       driver_name|total_points|count(race_name)|\n+------------------+------------+----------------+\n|       Jack Aitken|         0.0|               1|\n|      Daniil Kvyat|        32.0|              17|\n|   Kevin Magnussen|         1.0|              17|\n|      Sergio Pérez|       125.0|              15|\n|      Carlos Sainz|       105.0|              17|\n|    Kimi Räikkönen|         4.0|              17|\n|   Romain Grosjean|         2.0|              15|\n|   Charles Leclerc|        98.0|              17|\n|   Alexander Albon|       105.0|              17|\n|      Lance Stroll|        75.0|              16|\n|      Pierre Gasly|        75.0|              17|\n|    Lewis Hamilton|       347.0|              16|\n|   Nico Hülkenberg|        10.0|               3|\n|  Daniel Ricciardo|       119.0|              17|\n|   Valtteri Bottas|       223.0|              17|\n|Antonio Giovinazzi|         4.0|              17|\n|      Lando Norris|        97.0|              17|\n|    Max Verstappen|       214.0|              17|\n|    George Russell|         3.0|              17|\n|  Sebastian Vettel|        33.0|              17|\n+------------------+------------+----------------+\nonly showing top 20 rows\n\n"
     ]
    }
   ],
   "source": [
    "demo_df \\\n",
    "    .groupBy(\"driver_name\") \\\n",
    "    .agg(sum(\"points\"), countDistinct(\"race_name\")) \\\n",
    "    .withColumnRenamed(\"sum(points)\",\"total_points\") \\\n",
    "    .withColumnRenamed(\"count(DISTINCT race_name)\",\"number_of_races\") \\\n",
    "    .show()"
   ]
  },
  {
   "cell_type": "markdown",
   "metadata": {
    "application/vnd.databricks.v1+cell": {
     "cellMetadata": {
      "byteLimit": 2048000,
      "rowLimit": 10000
     },
     "inputWidgets": {},
     "nuid": "8a6fb47f-d99d-4216-9ecd-ee5a58c9439e",
     "showTitle": false,
     "title": ""
    }
   },
   "source": [
    "##### Shortcut rename with alias!"
   ]
  },
  {
   "cell_type": "code",
   "execution_count": 0,
   "metadata": {
    "application/vnd.databricks.v1+cell": {
     "cellMetadata": {
      "byteLimit": 2048000,
      "rowLimit": 10000
     },
     "inputWidgets": {},
     "nuid": "99534c14-9bfc-47a4-8107-da2638dea23e",
     "showTitle": false,
     "title": ""
    }
   },
   "outputs": [
    {
     "output_type": "stream",
     "name": "stdout",
     "output_type": "stream",
     "text": [
      "+------------------+------------+---------------+\n|       driver_name|total_points|number_of_races|\n+------------------+------------+---------------+\n|       Jack Aitken|         0.0|              1|\n|      Daniil Kvyat|        32.0|             17|\n|   Kevin Magnussen|         1.0|             17|\n|      Sergio Pérez|       125.0|             15|\n|      Carlos Sainz|       105.0|             17|\n|    Kimi Räikkönen|         4.0|             17|\n|   Romain Grosjean|         2.0|             15|\n|   Charles Leclerc|        98.0|             17|\n|   Alexander Albon|       105.0|             17|\n|      Lance Stroll|        75.0|             16|\n|      Pierre Gasly|        75.0|             17|\n|    Lewis Hamilton|       347.0|             16|\n|   Nico Hülkenberg|        10.0|              3|\n|  Daniel Ricciardo|       119.0|             17|\n|   Valtteri Bottas|       223.0|             17|\n|Antonio Giovinazzi|         4.0|             17|\n|      Lando Norris|        97.0|             17|\n|    Max Verstappen|       214.0|             17|\n|    George Russell|         3.0|             17|\n|  Sebastian Vettel|        33.0|             17|\n+------------------+------------+---------------+\nonly showing top 20 rows\n\n"
     ]
    }
   ],
   "source": [
    "demo_df \\\n",
    "    .groupBy(\"driver_name\") \\\n",
    "    .agg(sum(\"points\").alias(\"total_points\"), countDistinct(\"race_name\").alias(\"number_of_races\")) \\\n",
    "    .show()"
   ]
  },
  {
   "cell_type": "markdown",
   "metadata": {
    "application/vnd.databricks.v1+cell": {
     "cellMetadata": {
      "byteLimit": 2048000,
      "rowLimit": 10000
     },
     "inputWidgets": {},
     "nuid": "631e76a6-c740-4cf6-aff9-fe309e221a7b",
     "showTitle": false,
     "title": ""
    }
   },
   "source": [
    "### Window Functions\n",
    "\n",
    "Go to API Reference\n",
    "* https://spark.apache.org/docs/3.1.1/api/python/reference/index.html?highlight=api%20reference\n",
    "\n",
    "Click on Window\n",
    "* https://spark.apache.org/docs/3.1.1/api/python/reference/pyspark.sql.html#window"
   ]
  },
  {
   "cell_type": "code",
   "execution_count": 0,
   "metadata": {
    "application/vnd.databricks.v1+cell": {
     "cellMetadata": {
      "byteLimit": 2048000,
      "rowLimit": 10000
     },
     "inputWidgets": {},
     "nuid": "d37c90d5-7022-4d3a-b1b4-bbc1cddfe3eb",
     "showTitle": false,
     "title": ""
    }
   },
   "outputs": [],
   "source": [
    "demo_df=race_results_df.filter(\"race_year in (2019,2020)\")"
   ]
  },
  {
   "cell_type": "code",
   "execution_count": 0,
   "metadata": {
    "application/vnd.databricks.v1+cell": {
     "cellMetadata": {
      "byteLimit": 2048000,
      "rowLimit": 10000
     },
     "inputWidgets": {},
     "nuid": "9e539135-0125-4c34-aa83-9b19fe7bcffd",
     "showTitle": false,
     "title": ""
    }
   },
   "outputs": [
    {
     "output_type": "stream",
     "name": "stdout",
     "output_type": "stream",
     "text": [
      "Out[24]: DataFrame[race_year: int, driver_name: string, total_points: double, number_of_races: bigint]"
     ]
    }
   ],
   "source": [
    "demo_df \\\n",
    "    .groupBy(\"race_year\",\"driver_name\") \\\n",
    "    .agg(sum(\"points\").alias(\"total_points\"), countDistinct(\"race_name\").alias(\"number_of_races\"))"
   ]
  },
  {
   "cell_type": "code",
   "execution_count": 0,
   "metadata": {
    "application/vnd.databricks.v1+cell": {
     "cellMetadata": {
      "byteLimit": 2048000,
      "rowLimit": 10000
     },
     "inputWidgets": {},
     "nuid": "92ea208a-ecfa-43cd-8ffa-ea1931197593",
     "showTitle": false,
     "title": ""
    }
   },
   "outputs": [],
   "source": [
    "demo_grouped_df = demo_df \\\n",
    "    .groupBy(\"race_year\",\"driver_name\") \\\n",
    "    .agg(sum(\"points\").alias(\"total_points\"), countDistinct(\"race_name\").alias(\"number_of_races\"))"
   ]
  },
  {
   "cell_type": "code",
   "execution_count": 0,
   "metadata": {
    "application/vnd.databricks.v1+cell": {
     "cellMetadata": {
      "byteLimit": 2048000,
      "rowLimit": 10000
     },
     "inputWidgets": {},
     "nuid": "2f441007-96df-4940-8dc0-bb73fb774733",
     "showTitle": false,
     "title": ""
    }
   },
   "outputs": [
    {
     "output_type": "display_data",
     "data": {
      "text/html": [
       "<style scoped>\n",
       "  .table-result-container {\n",
       "    max-height: 300px;\n",
       "    overflow: auto;\n",
       "  }\n",
       "  table, th, td {\n",
       "    border: 1px solid black;\n",
       "    border-collapse: collapse;\n",
       "  }\n",
       "  th, td {\n",
       "    padding: 5px;\n",
       "  }\n",
       "  th {\n",
       "    text-align: left;\n",
       "  }\n",
       "</style><div class='table-result-container'><table class='table-result'><thead style='background-color: white'><tr><th>race_year</th><th>driver_name</th><th>total_points</th><th>number_of_races</th></tr></thead><tbody><tr><td>2020</td><td>Daniil Kvyat</td><td>32.0</td><td>17</td></tr><tr><td>2019</td><td>Kevin Magnussen</td><td>20.0</td><td>21</td></tr><tr><td>2020</td><td>Kevin Magnussen</td><td>1.0</td><td>17</td></tr><tr><td>2020</td><td>Antonio Giovinazzi</td><td>4.0</td><td>17</td></tr><tr><td>2020</td><td>Nico Hülkenberg</td><td>10.0</td><td>3</td></tr><tr><td>2020</td><td>Romain Grosjean</td><td>2.0</td><td>15</td></tr><tr><td>2019</td><td>Robert Kubica</td><td>1.0</td><td>21</td></tr><tr><td>2020</td><td>Charles Leclerc</td><td>98.0</td><td>17</td></tr><tr><td>2019</td><td>Lance Stroll</td><td>21.0</td><td>21</td></tr><tr><td>2020</td><td>Esteban Ocon</td><td>62.0</td><td>17</td></tr><tr><td>2020</td><td>Pietro Fittipaldi</td><td>0.0</td><td>2</td></tr><tr><td>2019</td><td>Lando Norris</td><td>49.0</td><td>21</td></tr><tr><td>2019</td><td>Sebastian Vettel</td><td>240.0</td><td>21</td></tr><tr><td>2019</td><td>George Russell</td><td>0.0</td><td>21</td></tr><tr><td>2019</td><td>Carlos Sainz</td><td>96.0</td><td>21</td></tr><tr><td>2020</td><td>Sebastian Vettel</td><td>33.0</td><td>17</td></tr><tr><td>2020</td><td>Daniel Ricciardo</td><td>119.0</td><td>17</td></tr><tr><td>2020</td><td>Kimi Räikkönen</td><td>4.0</td><td>17</td></tr><tr><td>2019</td><td>Max Verstappen</td><td>278.0</td><td>21</td></tr><tr><td>2019</td><td>Valtteri Bottas</td><td>326.0</td><td>21</td></tr><tr><td>2020</td><td>George Russell</td><td>3.0</td><td>17</td></tr><tr><td>2019</td><td>Charles Leclerc</td><td>264.0</td><td>21</td></tr><tr><td>2020</td><td>Max Verstappen</td><td>214.0</td><td>17</td></tr><tr><td>2020</td><td>Valtteri Bottas</td><td>223.0</td><td>17</td></tr><tr><td>2020</td><td>Pierre Gasly</td><td>75.0</td><td>17</td></tr><tr><td>2020</td><td>Lewis Hamilton</td><td>347.0</td><td>16</td></tr><tr><td>2019</td><td>Daniel Ricciardo</td><td>54.0</td><td>21</td></tr><tr><td>2019</td><td>Lewis Hamilton</td><td>413.0</td><td>21</td></tr><tr><td>2019</td><td>Antonio Giovinazzi</td><td>14.0</td><td>21</td></tr><tr><td>2019</td><td>Nico Hülkenberg</td><td>37.0</td><td>21</td></tr><tr><td>2019</td><td>Kimi Räikkönen</td><td>43.0</td><td>21</td></tr><tr><td>2020</td><td>Jack Aitken</td><td>0.0</td><td>1</td></tr><tr><td>2019</td><td>Alexander Albon</td><td>92.0</td><td>21</td></tr><tr><td>2020</td><td>Lance Stroll</td><td>75.0</td><td>16</td></tr><tr><td>2020</td><td>Nicholas Latifi</td><td>0.0</td><td>17</td></tr><tr><td>2020</td><td>Carlos Sainz</td><td>105.0</td><td>17</td></tr><tr><td>2020</td><td>Lando Norris</td><td>97.0</td><td>17</td></tr><tr><td>2019</td><td>Pierre Gasly</td><td>95.0</td><td>21</td></tr><tr><td>2020</td><td>Alexander Albon</td><td>105.0</td><td>17</td></tr><tr><td>2020</td><td>Sergio Pérez</td><td>125.0</td><td>15</td></tr><tr><td>2019</td><td>Daniil Kvyat</td><td>37.0</td><td>21</td></tr><tr><td>2019</td><td>Sergio Pérez</td><td>52.0</td><td>21</td></tr><tr><td>2019</td><td>Romain Grosjean</td><td>8.0</td><td>21</td></tr></tbody></table></div>"
      ]
     },
     "metadata": {
      "application/vnd.databricks.v1+output": {
       "addedWidgets": {},
       "aggData": [],
       "aggError": "",
       "aggOverflow": false,
       "aggSchema": [],
       "aggSeriesLimitReached": false,
       "aggType": "",
       "arguments": {},
       "columnCustomDisplayInfos": {},
       "data": [
        [
         2020,
         "Daniil Kvyat",
         32.0,
         17
        ],
        [
         2019,
         "Kevin Magnussen",
         20.0,
         21
        ],
        [
         2020,
         "Kevin Magnussen",
         1.0,
         17
        ],
        [
         2020,
         "Antonio Giovinazzi",
         4.0,
         17
        ],
        [
         2020,
         "Nico Hülkenberg",
         10.0,
         3
        ],
        [
         2020,
         "Romain Grosjean",
         2.0,
         15
        ],
        [
         2019,
         "Robert Kubica",
         1.0,
         21
        ],
        [
         2020,
         "Charles Leclerc",
         98.0,
         17
        ],
        [
         2019,
         "Lance Stroll",
         21.0,
         21
        ],
        [
         2020,
         "Esteban Ocon",
         62.0,
         17
        ],
        [
         2020,
         "Pietro Fittipaldi",
         0.0,
         2
        ],
        [
         2019,
         "Lando Norris",
         49.0,
         21
        ],
        [
         2019,
         "Sebastian Vettel",
         240.0,
         21
        ],
        [
         2019,
         "George Russell",
         0.0,
         21
        ],
        [
         2019,
         "Carlos Sainz",
         96.0,
         21
        ],
        [
         2020,
         "Sebastian Vettel",
         33.0,
         17
        ],
        [
         2020,
         "Daniel Ricciardo",
         119.0,
         17
        ],
        [
         2020,
         "Kimi Räikkönen",
         4.0,
         17
        ],
        [
         2019,
         "Max Verstappen",
         278.0,
         21
        ],
        [
         2019,
         "Valtteri Bottas",
         326.0,
         21
        ],
        [
         2020,
         "George Russell",
         3.0,
         17
        ],
        [
         2019,
         "Charles Leclerc",
         264.0,
         21
        ],
        [
         2020,
         "Max Verstappen",
         214.0,
         17
        ],
        [
         2020,
         "Valtteri Bottas",
         223.0,
         17
        ],
        [
         2020,
         "Pierre Gasly",
         75.0,
         17
        ],
        [
         2020,
         "Lewis Hamilton",
         347.0,
         16
        ],
        [
         2019,
         "Daniel Ricciardo",
         54.0,
         21
        ],
        [
         2019,
         "Lewis Hamilton",
         413.0,
         21
        ],
        [
         2019,
         "Antonio Giovinazzi",
         14.0,
         21
        ],
        [
         2019,
         "Nico Hülkenberg",
         37.0,
         21
        ],
        [
         2019,
         "Kimi Räikkönen",
         43.0,
         21
        ],
        [
         2020,
         "Jack Aitken",
         0.0,
         1
        ],
        [
         2019,
         "Alexander Albon",
         92.0,
         21
        ],
        [
         2020,
         "Lance Stroll",
         75.0,
         16
        ],
        [
         2020,
         "Nicholas Latifi",
         0.0,
         17
        ],
        [
         2020,
         "Carlos Sainz",
         105.0,
         17
        ],
        [
         2020,
         "Lando Norris",
         97.0,
         17
        ],
        [
         2019,
         "Pierre Gasly",
         95.0,
         21
        ],
        [
         2020,
         "Alexander Albon",
         105.0,
         17
        ],
        [
         2020,
         "Sergio Pérez",
         125.0,
         15
        ],
        [
         2019,
         "Daniil Kvyat",
         37.0,
         21
        ],
        [
         2019,
         "Sergio Pérez",
         52.0,
         21
        ],
        [
         2019,
         "Romain Grosjean",
         8.0,
         21
        ]
       ],
       "datasetInfos": [],
       "dbfsResultPath": null,
       "isJsonSchema": true,
       "metadata": {},
       "overflow": false,
       "plotOptions": {
        "customPlotOptions": {},
        "displayType": "table",
        "pivotAggregation": null,
        "pivotColumns": null,
        "xColumns": null,
        "yColumns": null
       },
       "removedWidgets": [],
       "schema": [
        {
         "metadata": "{}",
         "name": "race_year",
         "type": "\"integer\""
        },
        {
         "metadata": "{}",
         "name": "driver_name",
         "type": "\"string\""
        },
        {
         "metadata": "{}",
         "name": "total_points",
         "type": "\"double\""
        },
        {
         "metadata": "{}",
         "name": "number_of_races",
         "type": "\"long\""
        }
       ],
       "type": "table"
      }
     },
     "output_type": "display_data"
    }
   ],
   "source": [
    "display(demo_grouped_df)\n"
   ]
  },
  {
   "cell_type": "code",
   "execution_count": 0,
   "metadata": {
    "application/vnd.databricks.v1+cell": {
     "cellMetadata": {
      "byteLimit": 2048000,
      "rowLimit": 10000
     },
     "inputWidgets": {},
     "nuid": "02816e6f-0a8f-4bb4-b0e6-ff88971bdaff",
     "showTitle": false,
     "title": ""
    }
   },
   "outputs": [
    {
     "output_type": "stream",
     "name": "stdout",
     "output_type": "stream",
     "text": [
      "+---------+------------------+------------+---------------+----+\n|race_year|       driver_name|total_points|number_of_races|rank|\n+---------+------------------+------------+---------------+----+\n|     2019|    Lewis Hamilton|       413.0|             21|   1|\n|     2019|   Valtteri Bottas|       326.0|             21|   2|\n|     2019|    Max Verstappen|       278.0|             21|   3|\n|     2019|   Charles Leclerc|       264.0|             21|   4|\n|     2019|  Sebastian Vettel|       240.0|             21|   5|\n|     2019|      Carlos Sainz|        96.0|             21|   6|\n|     2019|      Pierre Gasly|        95.0|             21|   7|\n|     2019|   Alexander Albon|        92.0|             21|   8|\n|     2019|  Daniel Ricciardo|        54.0|             21|   9|\n|     2019|      Sergio Pérez|        52.0|             21|  10|\n|     2019|      Lando Norris|        49.0|             21|  11|\n|     2019|    Kimi Räikkönen|        43.0|             21|  12|\n|     2019|   Nico Hülkenberg|        37.0|             21|  13|\n|     2019|      Daniil Kvyat|        37.0|             21|  13|\n|     2019|      Lance Stroll|        21.0|             21|  15|\n|     2019|   Kevin Magnussen|        20.0|             21|  16|\n|     2019|Antonio Giovinazzi|        14.0|             21|  17|\n|     2019|   Romain Grosjean|         8.0|             21|  18|\n|     2019|     Robert Kubica|         1.0|             21|  19|\n|     2019|    George Russell|         0.0|             21|  20|\n|     2020|    Lewis Hamilton|       347.0|             16|   1|\n|     2020|   Valtteri Bottas|       223.0|             17|   2|\n|     2020|    Max Verstappen|       214.0|             17|   3|\n|     2020|      Sergio Pérez|       125.0|             15|   4|\n|     2020|  Daniel Ricciardo|       119.0|             17|   5|\n+---------+------------------+------------+---------------+----+\nonly showing top 25 rows\n\n"
     ]
    }
   ],
   "source": [
    "from pyspark.sql.window import Window\n",
    "from pyspark.sql.functions import desc, rank\n",
    "\n",
    "driverRankSpec = Window.partitionBy(\"race_year\").orderBy(desc(\"total_points\"))\n",
    "demo_grouped_df.withColumn(\"rank\", rank().over(driverRankSpec)).show(25)"
   ]
  },
  {
   "cell_type": "code",
   "execution_count": 0,
   "metadata": {
    "application/vnd.databricks.v1+cell": {
     "cellMetadata": {
      "byteLimit": 2048000,
      "rowLimit": 10000
     },
     "inputWidgets": {},
     "nuid": "9e0122a1-9df3-465f-9de1-e24568783b15",
     "showTitle": false,
     "title": ""
    }
   },
   "outputs": [],
   "source": []
  }
 ],
 "metadata": {
  "application/vnd.databricks.v1+notebook": {
   "dashboards": [],
   "language": "python",
   "notebookMetadata": {
    "pythonIndentUnit": 4
   },
   "notebookName": "Spark_LVL2_Tutorial_Aggregations_Group_by_Window",
   "widgets": {}
  }
 },
 "nbformat": 4,
 "nbformat_minor": 0
}
